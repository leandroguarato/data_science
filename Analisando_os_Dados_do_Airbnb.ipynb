{
  "nbformat": 4,
  "nbformat_minor": 0,
  "metadata": {
    "colab": {
      "name": "[Template] Analisando os Dados do Airbnb.ipynb",
      "provenance": [],
      "collapsed_sections": [],
      "toc_visible": true,
      "include_colab_link": true
    },
    "kernelspec": {
      "name": "python3",
      "display_name": "Python 3"
    }
  },
  "cells": [
    {
      "cell_type": "markdown",
      "metadata": {
        "id": "view-in-github",
        "colab_type": "text"
      },
      "source": [
        "<a href=\"https://colab.research.google.com/github/leandroguarato/data_science/blob/master/Analisando_os_Dados_do_Airbnb.ipynb\" target=\"_parent\"><img src=\"https://colab.research.google.com/assets/colab-badge.svg\" alt=\"Open In Colab\"/></a>"
      ]
    },
    {
      "cell_type": "markdown",
      "metadata": {
        "id": "kLI0gJtzDGuQ",
        "colab_type": "text"
      },
      "source": [
        "---\n",
        "\n",
        "# Análise dos Dados do **Airbnb em Veneza, Itália**\n",
        "\n",
        "O [Airbnb](https://www.airbnb.com.br/) começou em 2008 e já é considerado como sendo a **maior empresa hoteleira da atualidade**, mesmo sem possuir um único hotel! Ao final de 2018 a Startup completava 10 anos desde sua fundação e já havia hospedado mais de 300 milhões de pessoas ao redor de todo o mundo, desafiando as grandes redes hoteleiras tradicionais.\n",
        "\n",
        "Seu principal negócio está na conexão de pessoas que querem viajar (e se hospedar) com anfitriões que querem alugar seus imóveis (ou parte deles) de maneira prática, fornecendo uma plataforma inovadora para tornar essa **hospedagem alternativa** e viável.\n",
        "\n",
        "O Airbnb faz parte da **economia do compartilhamento**, que pressupõe novas formas de estruturação do trabalho, na mutualização dos bens, espaços e instrumentos, na organização dos cidadãos em redes ou comunidades e que, geralmente, são intermediadas por plataformas de internet.\n",
        "\n",
        "Uma das iniciativas da empresa neste sentido é disponibilizar dados do site de algumas das principais cidades do mundo. Por meio do portal [Inside Airbnb](http://insideairbnb.com/get-the-data.html) é possível baixar uma grande quantidade de dados para desenvolver projetos e soluções de **Data Science**.\n",
        "\n",
        "<center><img alt=\"Analisando Airbnb\" width=\"15%\" src=\"https://www.area360.com.au/wp-content/uploads/2017/09/airbnb-logo.jpg\"></center>\n",
        "\n",
        "Neste *notebook*, iremos analisar os dados referentes à cidade de **Veneza, situada no nordeste da Itália**, um dos mais importantes destinos turísticos do mundo, e ver quais insights podem ser extraídos a partir dos dados brutos disponibilizados.\n",
        "\n",
        "Veneza é uma cidade situada sobre um grupo de 117 pequenas ilhas separadas por canais e ligadas por pontes. Localizada na pantanosa Lagoa de Veneza, que se estende ao longo da costa entre as bocas dos rios Po e Piave. **A cidade é muito famosa pela beleza de sua arquitetura e obras de arte, sendo uma parte dela listada pela UNESCO como Patrimônio da Humanidade**, juntamente com a sua lagoa.\n",
        "\n",
        "<center><img alt=\"Canal de Veneza\" width=\"80%\" src=\"https://github.com/leandroguarato/data_science/raw/master/Canaldeveneza.jpg\"></center>\n",
        "\n",
        "Veneza é a capital da região de Veneto. **Estima-se que atualmente a população no centro histórico de Veneza seja de aproximadamente 50 mil habitantes**, número que vem reduzindo sistematicamente desde a Segunda Guerra Mundial, quando se estimava uma população em torno de 175 mil habitantes. O principal motivo é o aumento expressivo do turismo na cidade, tornando os aluguéis e o custo de vida no local muito altos.\n",
        "\n",
        "**O centro da cidade segue uma tradição de divisão em bairros chamados *sestieri* (plural de *sestiere*), que são os seis a seguir: a) Cannaregio, b) Castello, c) Dorsoduro (inclui a ilha Giudecca), d) San Marco, e) San Polo e f) Santa Croce.** Além do centro histórico situado na ilha principal, há também outras ilhas na lagoa e a parte situada em *Terraferma* (continente), principalmente na grande *frazioni* (equivalente a \"paróquias\" ou \"divisões\" em outros países) de Mestre e Marghera."
      ]
    },
    {
      "cell_type": "markdown",
      "metadata": {
        "id": "0zxQHhIUDF_2",
        "colab_type": "text"
      },
      "source": [
        "## Obtenção dos Dados\n"
      ]
    },
    {
      "cell_type": "markdown",
      "metadata": {
        "id": "UXIXTAF_5tdf",
        "colab_type": "text"
      },
      "source": [
        "Conforme já mencionado, os dados foram obtidos no portal [Inside Airbnb](http://insideairbnb.com/get-the-data.html), e este *dataset* que utilizamos é uma versão \"resumida\" do Airbnb para a cidade de Veneza."
      ]
    },
    {
      "cell_type": "code",
      "metadata": {
        "id": "Vhp2wMPgJ6zX",
        "colab_type": "code",
        "colab": {}
      },
      "source": [
        "# importar os pacotes necessarios\n",
        "import pandas as pd\n",
        "import matplotlib.pyplot as plt\n",
        "import seaborn as sns\n",
        "\n",
        "%matplotlib inline"
      ],
      "execution_count": 0,
      "outputs": []
    },
    {
      "cell_type": "code",
      "metadata": {
        "id": "tUmoAT8DLQ5T",
        "colab_type": "code",
        "colab": {}
      },
      "source": [
        "# importar o arquivo listings.csv para um DataFrame\n",
        "df=pd.read_csv('http://data.insideairbnb.com/italy/veneto/venice/2020-04-29/visualisations/listings.csv')"
      ],
      "execution_count": 0,
      "outputs": []
    },
    {
      "cell_type": "markdown",
      "metadata": {
        "id": "qb5By2nIMS6m",
        "colab_type": "text"
      },
      "source": [
        "## Análise dos Dados\n"
      ]
    },
    {
      "cell_type": "markdown",
      "metadata": {
        "id": "RYgvuebKNg8-",
        "colab_type": "text"
      },
      "source": [
        "**Dicionário das variáveis**\n",
        "\n",
        "* `id` - número de id gerado para identificar o imóvel\n",
        "* `name` - nome do imóvel anunciado\n",
        "* `host_id` - número de id do proprietário (anfitrião) do imóvel\n",
        "* `host_name` - nome do anfitrião\n",
        "* `neighbourhood_group` - informa se o imóvel está no continente (*terraferma*) ou em alguma ilha (*isole*)\n",
        "* `neighbourhood` - nome do bairro\n",
        "* `latitude` - coordenada da latitude do imóvel\n",
        "* `longitude` - coordenada da longitude do imóvel\n",
        "* `room_type` - informa o tipo de quarto que é oferecido\n",
        "* `price` - preço para alugar o imóvel\n",
        "* `minimum_nights` - quantidade mínima de noites para reservar\n",
        "* `number_of_reviews` - número de reviews que o imóvel possui\n",
        "* `last_review` - data do último review\n",
        "* `reviews_per_month` - quantidade de reviews por mês\n",
        "* `calculated_host_listings_count` - quantidade de imóveis do mesmo anfitrião\n",
        "* `availability_365` - número de dias de disponibilidade dentro de 365 dias.\n",
        "\n",
        "\n",
        "Antes de iniciar qualquer análise, vamos verificar a cara do nosso *dataset*, analisando as 5 primeiras entradas."
      ]
    },
    {
      "cell_type": "code",
      "metadata": {
        "id": "2iS_dae7YQtO",
        "colab_type": "code",
        "outputId": "ce662714-8726-400c-9ea9-d07cdb41ebbd",
        "colab": {
          "base_uri": "https://localhost:8080/",
          "height": 434
        }
      },
      "source": [
        "# mostrar as 5 primeiras entradas\n",
        "df.head()"
      ],
      "execution_count": 0,
      "outputs": [
        {
          "output_type": "execute_result",
          "data": {
            "text/html": [
              "<div>\n",
              "<style scoped>\n",
              "    .dataframe tbody tr th:only-of-type {\n",
              "        vertical-align: middle;\n",
              "    }\n",
              "\n",
              "    .dataframe tbody tr th {\n",
              "        vertical-align: top;\n",
              "    }\n",
              "\n",
              "    .dataframe thead th {\n",
              "        text-align: right;\n",
              "    }\n",
              "</style>\n",
              "<table border=\"1\" class=\"dataframe\">\n",
              "  <thead>\n",
              "    <tr style=\"text-align: right;\">\n",
              "      <th></th>\n",
              "      <th>id</th>\n",
              "      <th>name</th>\n",
              "      <th>host_id</th>\n",
              "      <th>host_name</th>\n",
              "      <th>neighbourhood_group</th>\n",
              "      <th>neighbourhood</th>\n",
              "      <th>latitude</th>\n",
              "      <th>longitude</th>\n",
              "      <th>room_type</th>\n",
              "      <th>price</th>\n",
              "      <th>minimum_nights</th>\n",
              "      <th>number_of_reviews</th>\n",
              "      <th>last_review</th>\n",
              "      <th>reviews_per_month</th>\n",
              "      <th>calculated_host_listings_count</th>\n",
              "      <th>availability_365</th>\n",
              "    </tr>\n",
              "  </thead>\n",
              "  <tbody>\n",
              "    <tr>\n",
              "      <th>0</th>\n",
              "      <td>6623</td>\n",
              "      <td>Venice Blue on Canal apartment</td>\n",
              "      <td>15016</td>\n",
              "      <td>Francesca</td>\n",
              "      <td>Isole</td>\n",
              "      <td>San Polo</td>\n",
              "      <td>45.43823</td>\n",
              "      <td>12.32902</td>\n",
              "      <td>Entire home/apt</td>\n",
              "      <td>225</td>\n",
              "      <td>7</td>\n",
              "      <td>162</td>\n",
              "      <td>2019-11-06</td>\n",
              "      <td>1.27</td>\n",
              "      <td>3</td>\n",
              "      <td>326</td>\n",
              "    </tr>\n",
              "    <tr>\n",
              "      <th>1</th>\n",
              "      <td>6624</td>\n",
              "      <td>Venice garden charme and canal view!</td>\n",
              "      <td>15016</td>\n",
              "      <td>Francesca</td>\n",
              "      <td>Isole</td>\n",
              "      <td>San Polo</td>\n",
              "      <td>45.43845</td>\n",
              "      <td>12.32869</td>\n",
              "      <td>Entire home/apt</td>\n",
              "      <td>272</td>\n",
              "      <td>7</td>\n",
              "      <td>64</td>\n",
              "      <td>2019-11-03</td>\n",
              "      <td>0.61</td>\n",
              "      <td>3</td>\n",
              "      <td>1</td>\n",
              "    </tr>\n",
              "    <tr>\n",
              "      <th>2</th>\n",
              "      <td>12074</td>\n",
              "      <td>Venice home to relax and emotions</td>\n",
              "      <td>15016</td>\n",
              "      <td>Francesca</td>\n",
              "      <td>Isole</td>\n",
              "      <td>San Polo</td>\n",
              "      <td>45.43827</td>\n",
              "      <td>12.32764</td>\n",
              "      <td>Entire home/apt</td>\n",
              "      <td>122</td>\n",
              "      <td>4</td>\n",
              "      <td>184</td>\n",
              "      <td>2019-10-07</td>\n",
              "      <td>1.51</td>\n",
              "      <td>3</td>\n",
              "      <td>105</td>\n",
              "    </tr>\n",
              "    <tr>\n",
              "      <th>3</th>\n",
              "      <td>27116</td>\n",
              "      <td>Charming room with balcony close to S. Mark's</td>\n",
              "      <td>116144</td>\n",
              "      <td>Gianni</td>\n",
              "      <td>Isole</td>\n",
              "      <td>San Marco</td>\n",
              "      <td>45.43221</td>\n",
              "      <td>12.33411</td>\n",
              "      <td>Private room</td>\n",
              "      <td>190</td>\n",
              "      <td>1</td>\n",
              "      <td>410</td>\n",
              "      <td>2020-02-21</td>\n",
              "      <td>3.46</td>\n",
              "      <td>2</td>\n",
              "      <td>318</td>\n",
              "    </tr>\n",
              "    <tr>\n",
              "      <th>4</th>\n",
              "      <td>33934</td>\n",
              "      <td>LOVELY APARTMENT IN THE CENTER</td>\n",
              "      <td>119219</td>\n",
              "      <td>Elisa</td>\n",
              "      <td>Isole</td>\n",
              "      <td>Cannaregio</td>\n",
              "      <td>45.44480</td>\n",
              "      <td>12.33121</td>\n",
              "      <td>Entire home/apt</td>\n",
              "      <td>103</td>\n",
              "      <td>2</td>\n",
              "      <td>133</td>\n",
              "      <td>2019-10-13</td>\n",
              "      <td>1.13</td>\n",
              "      <td>1</td>\n",
              "      <td>89</td>\n",
              "    </tr>\n",
              "  </tbody>\n",
              "</table>\n",
              "</div>"
            ],
            "text/plain": [
              "      id  ... availability_365\n",
              "0   6623  ...              326\n",
              "1   6624  ...                1\n",
              "2  12074  ...              105\n",
              "3  27116  ...              318\n",
              "4  33934  ...               89\n",
              "\n",
              "[5 rows x 16 columns]"
            ]
          },
          "metadata": {
            "tags": []
          },
          "execution_count": 91
        }
      ]
    },
    {
      "cell_type": "markdown",
      "metadata": {
        "id": "cznMLI7P7z7v",
        "colab_type": "text"
      },
      "source": [
        "___"
      ]
    },
    {
      "cell_type": "markdown",
      "metadata": {
        "colab_type": "text",
        "id": "pW4K4zm3vLyA"
      },
      "source": [
        "### **Q1. Quantos atributos (variáveis) e quantas entradas o nosso conjunto de dados possui? Quais os tipos das variáveis?**\n",
        "\n",
        "É preciso identificar a quantidade de entradas e variáveis que nosso conjunto de dados possui, além de ver os tipos de cada coluna.\n",
        "\n",
        "Embora estejamos utilizando este *dataset* menor, na mesma página que baixamos o arquivo `listings.csv` há uma versão mais completa tendo as mesmas 8829 entradas, porém com um total de 106 variáveis - `listings.csv.gz`."
      ]
    },
    {
      "cell_type": "code",
      "metadata": {
        "id": "EGZpFfDZj-oS",
        "colab_type": "code",
        "outputId": "49acff57-6d69-4dfb-fd7a-a7ecac102e95",
        "colab": {
          "base_uri": "https://localhost:8080/",
          "height": 372
        }
      },
      "source": [
        "# identificar o volume de dados do DataFrame\n",
        "print(\"Entradas:\\t {}\".format(df.shape[0]))\n",
        "print(\"Variáveis:\\t {}\\n\".format(df.shape[1]))\n",
        "\n",
        "# verificar as 5 primeiras entradas do dataset\n",
        "display(df.dtypes)  # Ou somente df.types"
      ],
      "execution_count": 0,
      "outputs": [
        {
          "output_type": "stream",
          "text": [
            "Entradas:\t 8829\n",
            "Variáveis:\t 16\n",
            "\n"
          ],
          "name": "stdout"
        },
        {
          "output_type": "display_data",
          "data": {
            "text/plain": [
              "id                                  int64\n",
              "name                               object\n",
              "host_id                             int64\n",
              "host_name                          object\n",
              "neighbourhood_group                object\n",
              "neighbourhood                      object\n",
              "latitude                          float64\n",
              "longitude                         float64\n",
              "room_type                          object\n",
              "price                               int64\n",
              "minimum_nights                      int64\n",
              "number_of_reviews                   int64\n",
              "last_review                        object\n",
              "reviews_per_month                 float64\n",
              "calculated_host_listings_count      int64\n",
              "availability_365                    int64\n",
              "dtype: object"
            ]
          },
          "metadata": {
            "tags": []
          }
        }
      ]
    },
    {
      "cell_type": "markdown",
      "metadata": {
        "id": "MsjVMblgpAj6",
        "colab_type": "text"
      },
      "source": [
        "___\n"
      ]
    },
    {
      "cell_type": "markdown",
      "metadata": {
        "id": "yz1urSUGW9iE",
        "colab_type": "text"
      },
      "source": [
        "### **Q2. Qual a porcentagem de valores ausentes no *dataset*?**"
      ]
    },
    {
      "cell_type": "markdown",
      "metadata": {
        "id": "lfFSWbgv4uNS",
        "colab_type": "text"
      },
      "source": [
        "A qualidade de um dataset está diretamente relacionada à quantidade de valores ausentes. É essencial compreender se esses valores nulos são significativos comparados ao total de entradas.\n",
        "\n",
        "* Diante da análise abaixo demonstrada, é possível ver que as colunas `reviews por month` e `last_review` possuem 13,16% dos seus valores faltantes, enquanto a coluna `host_name` possui apenas 1 valor nulo, o que significa menos de 0,01% dos valores totais.\n",
        "\n",
        "Entretanto, esses dados faltantes não são sensíveis ao ponto de prejudicar as análises, e podemos prosseguir sem a necessidade de excluir por completo os registros que apresentam tais ausências.\n"
      ]
    },
    {
      "cell_type": "code",
      "metadata": {
        "id": "plk2FjbCXOqP",
        "colab_type": "code",
        "outputId": "0b8a980b-bba6-4a87-c808-7f2ffce45527",
        "colab": {
          "base_uri": "https://localhost:8080/",
          "height": 318
        }
      },
      "source": [
        "# ordenar em ordem decrescente as variáveis por seus valores ausentes\n",
        "(df.isnull().sum() / df.shape[0]).sort_values(ascending=False)"
      ],
      "execution_count": 0,
      "outputs": [
        {
          "output_type": "execute_result",
          "data": {
            "text/plain": [
              "reviews_per_month                 0.131612\n",
              "last_review                       0.131612\n",
              "host_name                         0.000113\n",
              "availability_365                  0.000000\n",
              "calculated_host_listings_count    0.000000\n",
              "number_of_reviews                 0.000000\n",
              "minimum_nights                    0.000000\n",
              "price                             0.000000\n",
              "room_type                         0.000000\n",
              "longitude                         0.000000\n",
              "latitude                          0.000000\n",
              "neighbourhood                     0.000000\n",
              "neighbourhood_group               0.000000\n",
              "host_id                           0.000000\n",
              "name                              0.000000\n",
              "id                                0.000000\n",
              "dtype: float64"
            ]
          },
          "metadata": {
            "tags": []
          },
          "execution_count": 93
        }
      ]
    },
    {
      "cell_type": "markdown",
      "metadata": {
        "id": "sr7qzoicpD9D",
        "colab_type": "text"
      },
      "source": [
        "___\n"
      ]
    },
    {
      "cell_type": "markdown",
      "metadata": {
        "id": "iHXvvHIxaoNc",
        "colab_type": "text"
      },
      "source": [
        "### **Q3. Qual o tipo de distribuição das variáveis?** "
      ]
    },
    {
      "cell_type": "markdown",
      "metadata": {
        "id": "BSRnP-RqmaN5",
        "colab_type": "text"
      },
      "source": [
        "Uma das melhores maneiras de identificar a distribuição dos dados e a presença de *outliers* (valores discrepantes) é plotando-os em gráficos em forma de histogramas. "
      ]
    },
    {
      "cell_type": "code",
      "metadata": {
        "id": "q2wWSfeRbmBo",
        "colab_type": "code",
        "outputId": "0a7829a9-ada6-4538-f4ad-5de14e4c7e65",
        "colab": {
          "base_uri": "https://localhost:8080/",
          "height": 606
        }
      },
      "source": [
        "# plotar o histograma das variáveis numéricas\n",
        "df.hist(bins=15, figsize=(15,10));"
      ],
      "execution_count": 0,
      "outputs": [
        {
          "output_type": "display_data",
          "data": {
            "image/png": "[encoded data removed]",
            "text/plain": [
              "<Figure size 1080x720 with 12 Axes>"
            ]
          },
          "metadata": {
            "tags": [],
            "needs_background": "light"
          }
        }
      ]
    },
    {
      "cell_type": "markdown",
      "metadata": {
        "id": "_WSDdk6cpK_u",
        "colab_type": "text"
      },
      "source": [
        "___\n"
      ]
    },
    {
      "cell_type": "markdown",
      "metadata": {
        "id": "A1QGAYmWZau8",
        "colab_type": "text"
      },
      "source": [
        "### **Q4. Há outliers presentes no dataset?**"
      ]
    },
    {
      "cell_type": "markdown",
      "metadata": {
        "id": "uV2LrlseZtU2",
        "colab_type": "text"
      },
      "source": [
        "Pela distribuição dos histogramas vistos acima, verificamos que há  indícios da presença de alguns *outliers*. Olhe por exemplo as variáveis `price`, `minimum_nights` e `calculated_host_listings_count`.\n",
        "\n",
        "Os valores não seguem uma distribuição e distorcem toda a representação gráfica. Para confirmar, há duas maneiras rápidas que auxiliam na detecção de *outliers*. São elas:\n",
        "\n",
        "* Resumo estatístico por meio do método `describe()`\n",
        "* Plotagem de `boxplots` para a variável."
      ]
    },
    {
      "cell_type": "code",
      "metadata": {
        "id": "bs5-HjS4bfJV",
        "colab_type": "code",
        "outputId": "ce9383b1-c782-4967-c60b-8a988ea37c20",
        "colab": {
          "base_uri": "https://localhost:8080/",
          "height": 287
        }
      },
      "source": [
        "# ver o resumo estatístico das variáveis numéricas\n",
        "df[['price', 'minimum_nights', 'number_of_reviews', 'reviews_per_month',\n",
        "    'calculated_host_listings_count', 'availability_365']].describe()"
      ],
      "execution_count": 0,
      "outputs": [
        {
          "output_type": "execute_result",
          "data": {
            "text/html": [
              "<div>\n",
              "<style scoped>\n",
              "    .dataframe tbody tr th:only-of-type {\n",
              "        vertical-align: middle;\n",
              "    }\n",
              "\n",
              "    .dataframe tbody tr th {\n",
              "        vertical-align: top;\n",
              "    }\n",
              "\n",
              "    .dataframe thead th {\n",
              "        text-align: right;\n",
              "    }\n",
              "</style>\n",
              "<table border=\"1\" class=\"dataframe\">\n",
              "  <thead>\n",
              "    <tr style=\"text-align: right;\">\n",
              "      <th></th>\n",
              "      <th>price</th>\n",
              "      <th>minimum_nights</th>\n",
              "      <th>number_of_reviews</th>\n",
              "      <th>reviews_per_month</th>\n",
              "      <th>calculated_host_listings_count</th>\n",
              "      <th>availability_365</th>\n",
              "    </tr>\n",
              "  </thead>\n",
              "  <tbody>\n",
              "    <tr>\n",
              "      <th>count</th>\n",
              "      <td>8829.000000</td>\n",
              "      <td>8829.000000</td>\n",
              "      <td>8829.000000</td>\n",
              "      <td>7667.000000</td>\n",
              "      <td>8829.000000</td>\n",
              "      <td>8829.000000</td>\n",
              "    </tr>\n",
              "    <tr>\n",
              "      <th>mean</th>\n",
              "      <td>147.028203</td>\n",
              "      <td>2.138521</td>\n",
              "      <td>60.060822</td>\n",
              "      <td>1.880480</td>\n",
              "      <td>10.793182</td>\n",
              "      <td>220.382943</td>\n",
              "    </tr>\n",
              "    <tr>\n",
              "      <th>std</th>\n",
              "      <td>199.148896</td>\n",
              "      <td>2.523779</td>\n",
              "      <td>85.153467</td>\n",
              "      <td>1.894344</td>\n",
              "      <td>20.973613</td>\n",
              "      <td>140.195368</td>\n",
              "    </tr>\n",
              "    <tr>\n",
              "      <th>min</th>\n",
              "      <td>9.000000</td>\n",
              "      <td>1.000000</td>\n",
              "      <td>0.000000</td>\n",
              "      <td>0.010000</td>\n",
              "      <td>1.000000</td>\n",
              "      <td>0.000000</td>\n",
              "    </tr>\n",
              "    <tr>\n",
              "      <th>25%</th>\n",
              "      <td>78.000000</td>\n",
              "      <td>1.000000</td>\n",
              "      <td>4.000000</td>\n",
              "      <td>0.450000</td>\n",
              "      <td>1.000000</td>\n",
              "      <td>89.000000</td>\n",
              "    </tr>\n",
              "    <tr>\n",
              "      <th>50%</th>\n",
              "      <td>110.000000</td>\n",
              "      <td>2.000000</td>\n",
              "      <td>25.000000</td>\n",
              "      <td>1.310000</td>\n",
              "      <td>3.000000</td>\n",
              "      <td>268.000000</td>\n",
              "    </tr>\n",
              "    <tr>\n",
              "      <th>75%</th>\n",
              "      <td>150.000000</td>\n",
              "      <td>2.000000</td>\n",
              "      <td>81.000000</td>\n",
              "      <td>2.710000</td>\n",
              "      <td>8.000000</td>\n",
              "      <td>351.000000</td>\n",
              "    </tr>\n",
              "    <tr>\n",
              "      <th>max</th>\n",
              "      <td>8459.000000</td>\n",
              "      <td>107.000000</td>\n",
              "      <td>899.000000</td>\n",
              "      <td>40.600000</td>\n",
              "      <td>121.000000</td>\n",
              "      <td>365.000000</td>\n",
              "    </tr>\n",
              "  </tbody>\n",
              "</table>\n",
              "</div>"
            ],
            "text/plain": [
              "             price  ...  availability_365\n",
              "count  8829.000000  ...       8829.000000\n",
              "mean    147.028203  ...        220.382943\n",
              "std     199.148896  ...        140.195368\n",
              "min       9.000000  ...          0.000000\n",
              "25%      78.000000  ...         89.000000\n",
              "50%     110.000000  ...        268.000000\n",
              "75%     150.000000  ...        351.000000\n",
              "max    8459.000000  ...        365.000000\n",
              "\n",
              "[8 rows x 6 columns]"
            ]
          },
          "metadata": {
            "tags": []
          },
          "execution_count": 95
        }
      ]
    },
    {
      "cell_type": "markdown",
      "metadata": {
        "id": "99RG4Lj_bveN",
        "colab_type": "text"
      },
      "source": [
        "Olhando o resumo estatístico acima, podemos confirmar algumas hipóteses como:\n",
        "\n",
        "* A variável `price` possui 75% dos valores abaixo de 150 euros, porém o maior valor do conjunto de dados é de 8459,00 euros, valor que muito provavelmente é um erro constante do *dataset*, o que virá a distorcer as nossas análises relacionadas aos preços de hospedagem.\n",
        "* A variável `minimum_nights` (quantidade mínima de noites), por sua vez, possui 75% dos valores entre 1 e 2 dias, e traz um valor máximo de 107 dias, o que também aparenta ser um erro do *dataset* e pode acarretará em prejuízo às análises.\n",
        "* Quanto à variável `calculated_host_listings_count`, que representa a quantidade de imóveis do mesmo anfitrião na cidade, embora aparentemente tenha um valor máximo discrepante de 121, não analisaremos este dado especificamente."
      ]
    },
    {
      "cell_type": "markdown",
      "metadata": {
        "id": "XwLi8OrJ5ntK",
        "colab_type": "text"
      },
      "source": [
        "#### Boxplot para *minimum_nights*"
      ]
    },
    {
      "cell_type": "code",
      "metadata": {
        "id": "gf4kekugdKeA",
        "colab_type": "code",
        "outputId": "9a26ac3e-ae55-4104-f3ba-2bb2b2f76314",
        "colab": {
          "base_uri": "https://localhost:8080/",
          "height": 210
        }
      },
      "source": [
        "# minimum_nights\n",
        "df.minimum_nights.plot(kind='box', vert=False, figsize=(17, 2))\n",
        "plt.show()\n",
        "\n",
        "# ver quantidade de valores acima de 30 dias para minimum_nights\n",
        "print(\"minimum_nights: Valores acima de 30:\")\n",
        "print(\"{} entradas\".format(len(df[df.minimum_nights > 30])))\n",
        "print(\"{:.4f}%\".format((len(df[df.minimum_nights > 30]) / df.shape[0])*100))"
      ],
      "execution_count": 0,
      "outputs": [
        {
          "output_type": "display_data",
          "data": {
            "image/png": "[encoded data removed]",
            "text/plain": [
              "<Figure size 1224x144 with 1 Axes>"
            ]
          },
          "metadata": {
            "tags": [],
            "needs_background": "light"
          }
        },
        {
          "output_type": "stream",
          "text": [
            "minimum_nights: Valores acima de 30:\n",
            "6 entradas\n",
            "0.0680%\n"
          ],
          "name": "stdout"
        }
      ]
    },
    {
      "cell_type": "markdown",
      "metadata": {
        "id": "jXiCxRF_dbQZ",
        "colab_type": "text"
      },
      "source": [
        "#### Boxplot para *price*"
      ]
    },
    {
      "cell_type": "code",
      "metadata": {
        "id": "Rei3qpCvdlDM",
        "colab_type": "code",
        "outputId": "3619e482-d510-4e2a-ad63-104fa6d5deeb",
        "colab": {
          "base_uri": "https://localhost:8080/",
          "height": 227
        }
      },
      "source": [
        "# price\n",
        "df.price.plot(kind='box', vert=False, figsize=(17, 2),)\n",
        "plt.show()\n",
        "\n",
        "# ver quantidade de valores acima de 1200 para price\n",
        "print(\"\\nprice: Valores acima de 1200\")\n",
        "print(\"{} entradas\".format(len(df[df.price > 1200])))\n",
        "print(\"{:.4f}%\".format((len(df[df.price > 1200]) / df.shape[0])*100))\n",
        "\n",
        "# df.price.plot(kind='box', vert=False, xlim=(0,1250), figsize=(15,3));"
      ],
      "execution_count": 0,
      "outputs": [
        {
          "output_type": "display_data",
          "data": {
            "image/png": "[encoded data removed]",
            "text/plain": [
              "<Figure size 1224x144 with 1 Axes>"
            ]
          },
          "metadata": {
            "tags": [],
            "needs_background": "light"
          }
        },
        {
          "output_type": "stream",
          "text": [
            "\n",
            "price: Valores acima de 1200\n",
            "22 entradas\n",
            "0.2492%\n"
          ],
          "name": "stdout"
        }
      ]
    },
    {
      "cell_type": "markdown",
      "metadata": {
        "id": "YIbY5-e5eM2o",
        "colab_type": "text"
      },
      "source": [
        "#### Histogramas sem *outliers*\n",
        "\n",
        "Uma vez identificados *outliers*, neste caso nas variáveis `price` e `minimum_nights`, faz-se necessário excluir esses registros do *DataFrame* e plotar novamente os gráficos de histograma.\n",
        "* Adotaremos em relação à variável `price` a exclusão dos valores acima de 1000 euros por diária;\n",
        "* Da mesma forma, relativamente à variável `minimum_nights`, faremos a exclusão dos valores acima de 30 dias."
      ]
    },
    {
      "cell_type": "code",
      "metadata": {
        "id": "kAdP0godeOJu",
        "colab_type": "code",
        "outputId": "ab830417-3796-46b6-cf39-e9feecfbbec2",
        "colab": {
          "base_uri": "https://localhost:8080/",
          "height": 606
        }
      },
      "source": [
        "# removendo os *outliers* e gravando os registros em um novo DataFrame\n",
        "df_clean = df.copy()\n",
        "df_clean.drop(df_clean[df_clean.price > 1200].index, axis=0, inplace=True)\n",
        "df_clean.drop(df_clean[df_clean.minimum_nights > 30].index, axis=0, inplace=True)\n",
        "\n",
        "# plotar o histograma para as variáveis numéricas\n",
        "df_clean.hist(bins=15, figsize=(15,10));"
      ],
      "execution_count": 0,
      "outputs": [
        {
          "output_type": "display_data",
          "data": {
            "image/png": "[encoded data removed]",
            "text/plain": [
              "<Figure size 1080x720 with 12 Axes>"
            ]
          },
          "metadata": {
            "tags": [],
            "needs_background": "light"
          }
        }
      ]
    },
    {
      "cell_type": "markdown",
      "metadata": {
        "id": "-POJyQ2RpP-k",
        "colab_type": "text"
      },
      "source": [
        "___\n"
      ]
    },
    {
      "cell_type": "markdown",
      "metadata": {
        "id": "IXn2oIo5qx-w",
        "colab_type": "text"
      },
      "source": [
        "### **Q5. Qual a correlação existente entre as variáveis?**"
      ]
    },
    {
      "cell_type": "markdown",
      "metadata": {
        "id": "I8xsClfA0ioF",
        "colab_type": "text"
      },
      "source": [
        "**Correlação** significa dizer que há uma relação positiva, neutra ou negativa entre duas variáveis. No nosso contexto, estamos buscando relação ou semelhança entre duas variáveis.\n",
        "\n",
        "Essa relação pode ser medida e é função do coeficiente de correlação estabelecer qual a intensidade dela. Para identificar as correlações existentes entre as variáveis de interesse, iremos então:\n",
        "\n",
        "* Criar uma matriz de correlação\n",
        "* Gerar um *heatmap* (mapa de calor) a partir dessa matriz, usando a biblioteca `seaborn`\n",
        "\n",
        "No nosso caso, não foram identificadas fortes correlações entre as variáveis mais importantes apresentadas."
      ]
    },
    {
      "cell_type": "code",
      "metadata": {
        "id": "x2ayzBajqxyd",
        "colab_type": "code",
        "outputId": "7f77adbc-08c2-497e-c682-b13b6576d03e",
        "colab": {
          "base_uri": "https://localhost:8080/",
          "height": 247
        }
      },
      "source": [
        "# criando uma matriz de correlação\n",
        "corr = df_clean[['price', 'minimum_nights', 'number_of_reviews', 'reviews_per_month',\n",
        "    'calculated_host_listings_count', 'availability_365']].corr()\n",
        "\n",
        "# mostrando a matriz de correlação\n",
        "display(corr)"
      ],
      "execution_count": 0,
      "outputs": [
        {
          "output_type": "display_data",
          "data": {
            "text/html": [
              "<div>\n",
              "<style scoped>\n",
              "    .dataframe tbody tr th:only-of-type {\n",
              "        vertical-align: middle;\n",
              "    }\n",
              "\n",
              "    .dataframe tbody tr th {\n",
              "        vertical-align: top;\n",
              "    }\n",
              "\n",
              "    .dataframe thead th {\n",
              "        text-align: right;\n",
              "    }\n",
              "</style>\n",
              "<table border=\"1\" class=\"dataframe\">\n",
              "  <thead>\n",
              "    <tr style=\"text-align: right;\">\n",
              "      <th></th>\n",
              "      <th>price</th>\n",
              "      <th>minimum_nights</th>\n",
              "      <th>number_of_reviews</th>\n",
              "      <th>reviews_per_month</th>\n",
              "      <th>calculated_host_listings_count</th>\n",
              "      <th>availability_365</th>\n",
              "    </tr>\n",
              "  </thead>\n",
              "  <tbody>\n",
              "    <tr>\n",
              "      <th>price</th>\n",
              "      <td>1.000000</td>\n",
              "      <td>0.027090</td>\n",
              "      <td>-0.158184</td>\n",
              "      <td>-0.160079</td>\n",
              "      <td>0.231368</td>\n",
              "      <td>0.025977</td>\n",
              "    </tr>\n",
              "    <tr>\n",
              "      <th>minimum_nights</th>\n",
              "      <td>0.027090</td>\n",
              "      <td>1.000000</td>\n",
              "      <td>0.003019</td>\n",
              "      <td>-0.082346</td>\n",
              "      <td>-0.015364</td>\n",
              "      <td>-0.027555</td>\n",
              "    </tr>\n",
              "    <tr>\n",
              "      <th>number_of_reviews</th>\n",
              "      <td>-0.158184</td>\n",
              "      <td>0.003019</td>\n",
              "      <td>1.000000</td>\n",
              "      <td>0.747269</td>\n",
              "      <td>-0.164252</td>\n",
              "      <td>0.061268</td>\n",
              "    </tr>\n",
              "    <tr>\n",
              "      <th>reviews_per_month</th>\n",
              "      <td>-0.160079</td>\n",
              "      <td>-0.082346</td>\n",
              "      <td>0.747269</td>\n",
              "      <td>1.000000</td>\n",
              "      <td>-0.175291</td>\n",
              "      <td>0.038601</td>\n",
              "    </tr>\n",
              "    <tr>\n",
              "      <th>calculated_host_listings_count</th>\n",
              "      <td>0.231368</td>\n",
              "      <td>-0.015364</td>\n",
              "      <td>-0.164252</td>\n",
              "      <td>-0.175291</td>\n",
              "      <td>1.000000</td>\n",
              "      <td>0.064402</td>\n",
              "    </tr>\n",
              "    <tr>\n",
              "      <th>availability_365</th>\n",
              "      <td>0.025977</td>\n",
              "      <td>-0.027555</td>\n",
              "      <td>0.061268</td>\n",
              "      <td>0.038601</td>\n",
              "      <td>0.064402</td>\n",
              "      <td>1.000000</td>\n",
              "    </tr>\n",
              "  </tbody>\n",
              "</table>\n",
              "</div>"
            ],
            "text/plain": [
              "                                   price  ...  availability_365\n",
              "price                           1.000000  ...          0.025977\n",
              "minimum_nights                  0.027090  ...         -0.027555\n",
              "number_of_reviews              -0.158184  ...          0.061268\n",
              "reviews_per_month              -0.160079  ...          0.038601\n",
              "calculated_host_listings_count  0.231368  ...          0.064402\n",
              "availability_365                0.025977  ...          1.000000\n",
              "\n",
              "[6 rows x 6 columns]"
            ]
          },
          "metadata": {
            "tags": []
          }
        }
      ]
    },
    {
      "cell_type": "code",
      "metadata": {
        "id": "91UujDr6ueqE",
        "colab_type": "code",
        "outputId": "f893777d-f76f-4047-de51-5e3e2363a694",
        "colab": {
          "base_uri": "https://localhost:8080/",
          "height": 411
        }
      },
      "source": [
        "# plotando um heatmap a partir das correlações\n",
        "sns.heatmap(corr, cmap='RdBu', fmt='.2f', square=True, linecolor='white', annot=True);"
      ],
      "execution_count": 0,
      "outputs": [
        {
          "output_type": "display_data",
          "data": {
            "image/png": "[encoded data removed]",
            "text/plain": [
              "<Figure size 432x288 with 2 Axes>"
            ]
          },
          "metadata": {
            "tags": [],
            "needs_background": "light"
          }
        }
      ]
    },
    {
      "cell_type": "markdown",
      "metadata": {
        "id": "E-EH1FDtpXWr",
        "colab_type": "text"
      },
      "source": [
        "___\n"
      ]
    },
    {
      "cell_type": "markdown",
      "metadata": {
        "id": "7b6RMWpuHKN-",
        "colab_type": "text"
      },
      "source": [
        "### **Q6. Quais os tipos de imóveis mais oferecidos para locação no Airbnb, na cidade de Veneza?**"
      ]
    },
    {
      "cell_type": "markdown",
      "metadata": {
        "id": "Y0yrChZa2nL6",
        "colab_type": "text"
      },
      "source": [
        "\n",
        "A coluna `room_type` contém os dados da variável que indica o tipo de acomodação apresentada no anúncio do Airbnb. Pra quem nunca utilizou o plataforma, existem ali opções de apartamentos/casas inteiras, aluguel de um único quarto do imóvel, de um quarto de hotel ou mesmo o aluguel de um quarto compartilhado com outras pessoas.\n",
        "\n",
        "Vamos, portanto, contar a quantidade de ocorrências de cada tipo de unidade de locação anunciada no Airbnb em Veneza, usando o método `value_counts()`.\n",
        "\n",
        "Percebe-se aqui pela demonstração abaixo, que os apartamentos/casas inteiras predominam dentre as acomodações ofertadas na cidade de Veneza, sendo mais de 75% delas. Em seguida estão os quartos com 20% do total."
      ]
    },
    {
      "cell_type": "code",
      "metadata": {
        "id": "ueLPNWvPHgfB",
        "colab_type": "code",
        "outputId": "824c8d54-642a-403b-a482-07da472bffc9",
        "colab": {
          "base_uri": "https://localhost:8080/",
          "height": 105
        }
      },
      "source": [
        "# mostrar a quantidade de cada tipo de imóvel disponível\n",
        "df_clean.room_type.value_counts()"
      ],
      "execution_count": 0,
      "outputs": [
        {
          "output_type": "execute_result",
          "data": {
            "text/plain": [
              "Entire home/apt    6635\n",
              "Private room       1786\n",
              "Hotel room          318\n",
              "Shared room          62\n",
              "Name: room_type, dtype: int64"
            ]
          },
          "metadata": {
            "tags": []
          },
          "execution_count": 101
        }
      ]
    },
    {
      "cell_type": "code",
      "metadata": {
        "id": "EvwoO-XAHhIm",
        "colab_type": "code",
        "outputId": "20629ea2-4d9b-410a-ea9d-ea1dc4b7882a",
        "colab": {
          "base_uri": "https://localhost:8080/",
          "height": 105
        }
      },
      "source": [
        "# mostrar a porcentagem de cada tipo de imóvel disponível\n",
        "df_clean.room_type.value_counts()/df.shape[0]"
      ],
      "execution_count": 0,
      "outputs": [
        {
          "output_type": "execute_result",
          "data": {
            "text/plain": [
              "Entire home/apt    0.751501\n",
              "Private room       0.202288\n",
              "Hotel room         0.036018\n",
              "Shared room        0.007022\n",
              "Name: room_type, dtype: float64"
            ]
          },
          "metadata": {
            "tags": []
          },
          "execution_count": 102
        }
      ]
    },
    {
      "cell_type": "markdown",
      "metadata": {
        "id": "HxMzmijGpZHP",
        "colab_type": "text"
      },
      "source": [
        "___\n"
      ]
    },
    {
      "cell_type": "markdown",
      "metadata": {
        "id": "7x4aw1j5wNmn",
        "colab_type": "text"
      },
      "source": [
        "### **Q7. Qual o preço médio das diárias em Veneza?**"
      ]
    },
    {
      "cell_type": "markdown",
      "metadata": {
        "id": "-UgG6CMyMjez",
        "colab_type": "text"
      },
      "source": [
        "Após as devidas análises dos dados faltantes e exclusões dos dados chamados de *outliers*, calculamos o preço médio das diárias (variável `price`) em Veneza, chegando ao valor de 141,72 euros."
      ]
    },
    {
      "cell_type": "code",
      "metadata": {
        "id": "ff-8gUahLk-C",
        "colab_type": "code",
        "outputId": "3628acca-9613-44c6-da97-3aaebb15857d",
        "colab": {
          "base_uri": "https://localhost:8080/",
          "height": 34
        }
      },
      "source": [
        "# ver a média da coluna `price``\n",
        "df_clean.price.mean()"
      ],
      "execution_count": 0,
      "outputs": [
        {
          "output_type": "execute_result",
          "data": {
            "text/plain": [
              "141.7242358822861"
            ]
          },
          "metadata": {
            "tags": []
          },
          "execution_count": 103
        }
      ]
    },
    {
      "cell_type": "markdown",
      "metadata": {
        "id": "NyUKSwg8757a",
        "colab_type": "text"
      },
      "source": [
        "___"
      ]
    },
    {
      "cell_type": "markdown",
      "metadata": {
        "id": "MFa5NbnLJMcd",
        "colab_type": "text"
      },
      "source": [
        "### **Q8. Qual bairro de Veneza tem os imóveis mais caros para locação?**\n",
        "\n"
      ]
    },
    {
      "cell_type": "markdown",
      "metadata": {
        "id": "14VTzikaDBPF",
        "colab_type": "text"
      },
      "source": [
        "A partir do agrupamento das acomodações por bairros, fizemos um levantamento para saber o preço médio das diárias em cada um deles.\n",
        " \n",
        "Foi identificado que **o bairro de San Marco, localizado no centro histórico de Veneza, tem 1040 unidades para locação e é o mais caro da cidade com uma diária média de 200 euros.** Dentre os 10 bairros mais caros abaixo apresentados temos ali presentes todos os 6 do centro histórico, ou seja, quem quiser desfrutar o melhor da ilha e dos seus inúmeros atrativos, evitandos os custos e o tempo de deslocamento, terá que desembolsar um pouco mais.\n",
        "\n",
        "Além disso, calculamos os preços médios das diárias para os imóveis do continente (*terraferma*) e das ilhas (*isole*) em geral, chegando aos seguintes valores:\n",
        "* *Isole*      = 152,79 euros\n",
        "* *Terraferma* =  93,42 euros\n",
        " \n"
      ]
    },
    {
      "cell_type": "markdown",
      "metadata": {
        "id": "sUMKzmx2uPG-",
        "colab_type": "text"
      },
      "source": [
        "<center><img alt=\"Veneza\" width=\"80%\" src=\"https://github.com/leandroguarato/data_science/raw/master/Veneza.png\"></center>"
      ]
    },
    {
      "cell_type": "code",
      "metadata": {
        "id": "MD_xa143JZpi",
        "colab_type": "code",
        "outputId": "b0fabdf2-b837-4cde-fc48-791c192c7a86",
        "colab": {
          "base_uri": "https://localhost:8080/",
          "height": 230
        }
      },
      "source": [
        "# ver preços por bairros, na média\n",
        "df_clean.groupby(['neighbourhood']).price.mean().sort_values(ascending=False)[:10]"
      ],
      "execution_count": 0,
      "outputs": [
        {
          "output_type": "execute_result",
          "data": {
            "text/plain": [
              "neighbourhood\n",
              "San Marco                      200.155769\n",
              "Tessera                        199.789474\n",
              "Ca' Emiliani                   196.333333\n",
              "Dorsoduro                      170.787834\n",
              "Zona Commerciale via Torino    167.500000\n",
              "San Polo                       152.718373\n",
              "Santa Croce                    150.215748\n",
              "Castello                       142.017073\n",
              "Cannaregio                     139.957216\n",
              "Lido                           139.848765\n",
              "Name: price, dtype: float64"
            ]
          },
          "metadata": {
            "tags": []
          },
          "execution_count": 105
        }
      ]
    },
    {
      "cell_type": "markdown",
      "metadata": {
        "id": "HZkxNQNiR5GG",
        "colab_type": "text"
      },
      "source": [
        "Análise da variável `neighbourhood_group`, que verifica se os imóveis estão em alguma ilha ou no continente."
      ]
    },
    {
      "cell_type": "code",
      "metadata": {
        "id": "eo65aHnLCX0K",
        "colab_type": "code",
        "outputId": "b5ec83b0-1a34-4c4f-ed33-2748ca4f2991",
        "colab": {
          "base_uri": "https://localhost:8080/",
          "height": 87
        }
      },
      "source": [
        "df_clean.groupby(['neighbourhood_group']).price.mean().sort_values(ascending=False)[:20]"
      ],
      "execution_count": 0,
      "outputs": [
        {
          "output_type": "execute_result",
          "data": {
            "text/plain": [
              "neighbourhood_group\n",
              "Isole         152.793436\n",
              "Terraferma     93.427179\n",
              "Name: price, dtype: float64"
            ]
          },
          "metadata": {
            "tags": []
          },
          "execution_count": 107
        }
      ]
    },
    {
      "cell_type": "markdown",
      "metadata": {
        "id": "-LFlYXDIQ3OP",
        "colab_type": "text"
      },
      "source": [
        "Aqui verificamos a quantidade de imóveis no bairro de *San Marco*, com o objetivo de constatar se há poucos registros, o que pode distorcer os resultados. \n",
        "Entretanto, com 1040 registros, entendemos que os valores estão bem distribuídos e o resultado condiz com a realidade do local."
      ]
    },
    {
      "cell_type": "code",
      "metadata": {
        "id": "khTCy_kePUHs",
        "colab_type": "code",
        "outputId": "d93a99dd-c58c-465c-9ec3-45ef917f6999",
        "colab": {
          "base_uri": "https://localhost:8080/",
          "height": 34
        }
      },
      "source": [
        "print(df_clean[df_clean.neighbourhood == \"San Marco\"].shape)"
      ],
      "execution_count": 0,
      "outputs": [
        {
          "output_type": "stream",
          "text": [
            "(1040, 16)\n"
          ],
          "name": "stdout"
        }
      ]
    },
    {
      "cell_type": "markdown",
      "metadata": {
        "id": "VHh5xWGNpb40",
        "colab_type": "text"
      },
      "source": [
        "___\n"
      ]
    },
    {
      "cell_type": "markdown",
      "metadata": {
        "id": "vTneAMRUYvr1",
        "colab_type": "text"
      },
      "source": [
        "### **Q9. Qual é a média do mínimo de noites para aluguel (minimum_nights)?**"
      ]
    },
    {
      "cell_type": "markdown",
      "metadata": {
        "id": "i8xMr_B2Sqff",
        "colab_type": "text"
      },
      "source": [
        "Neste ponto passamos a analisar a variável `minimum_nights`, que significa a quantidade mínima de noites exigida pelos anfitriões para locação de seus imóveis. Obtivemos como resultado um número médio de aproximadamente 2,1 noites por acomodação ofertada."
      ]
    },
    {
      "cell_type": "code",
      "metadata": {
        "id": "_VzNhrEgY82N",
        "colab_type": "code",
        "outputId": "78c7a7f0-537e-4528-9dca-0d395841ffd6",
        "colab": {
          "base_uri": "https://localhost:8080/",
          "height": 34
        }
      },
      "source": [
        "# ver a média da coluna `minimum_nights``\n",
        "df_clean['minimum_nights'].mean()"
      ],
      "execution_count": 0,
      "outputs": [
        {
          "output_type": "execute_result",
          "data": {
            "text/plain": [
              "2.0902170207930917"
            ]
          },
          "metadata": {
            "tags": []
          },
          "execution_count": 109
        }
      ]
    },
    {
      "cell_type": "markdown",
      "metadata": {
        "id": "c2obQ6clpfYL",
        "colab_type": "text"
      },
      "source": [
        "\n",
        "Por fim, plotaremos um  gráfico de dispersão com a localização dos imóveis pela cidade de Veneza, utilizando as variáveis `latitude` e `longitude`."
      ]
    },
    {
      "cell_type": "markdown",
      "metadata": {
        "id": "7xLKvcSc78Wp",
        "colab_type": "text"
      },
      "source": [
        "___"
      ]
    },
    {
      "cell_type": "markdown",
      "metadata": {
        "id": "at9cqAyiXkad",
        "colab_type": "text"
      },
      "source": [
        "### **Q10. Como os imóveis para locação estão distribuídos pela cidade de Veneza?**"
      ]
    },
    {
      "cell_type": "markdown",
      "metadata": {
        "id": "4f-hpVl5Wg4F",
        "colab_type": "text"
      },
      "source": [
        "Podemos notar claramente uma grande dispersão dos imóveis pelos bairros da cidade de Veneza, tanto nas ilhas quanto no continente. Apesar disso, há também uma certa sobreposição dos pontos em alguns locais, principalmente no centro histórico, uma vez que é uma característica da cidade os imóveis verticais, com dois, três e até quatro andares tendo, por vezes, várias acomodações disponíveis para locação no mesmo imóvel."
      ]
    },
    {
      "cell_type": "code",
      "metadata": {
        "id": "UxVJqJ_3W59I",
        "colab_type": "code",
        "outputId": "2e8a8c60-2439-4ad9-9b5f-aa43c0fd5890",
        "colab": {
          "base_uri": "https://localhost:8080/",
          "height": 582
        }
      },
      "source": [
        "# plotar os imóveis pela latitude-longitude\n",
        "df_clean.plot(kind=\"scatter\", x='longitude', y='latitude', alpha=0.4, c=df_clean['price'], s=12,\n",
        "              cmap=plt.get_cmap('jet'), figsize=(20,10));"
      ],
      "execution_count": 0,
      "outputs": [
        {
          "output_type": "display_data",
          "data": {
            "image/png": "[encoded data removed]",
            "text/plain": [
              "<Figure size 1440x720 with 2 Axes>"
            ]
          },
          "metadata": {
            "tags": [],
            "needs_background": "light"
          }
        }
      ]
    },
    {
      "cell_type": "markdown",
      "metadata": {
        "id": "GkvAg623RjoR",
        "colab_type": "text"
      },
      "source": [
        "## Conclusões\n"
      ]
    },
    {
      "cell_type": "markdown",
      "metadata": {
        "id": "rbZ3Hsy9Ypw8",
        "colab_type": "text"
      },
      "source": [
        "Com base nos dados fornecidos pelo Airbnb fizemos uma análise superficial de algumas variáveis, retirando alguns insights, como:\n",
        "\n",
        "a) quais são os tipos de imóveis mais oferecidos para locação por meio do Airbnb em Veneza;\\\n",
        "b) preço médio das diárias na cidade de Veneza; \\\n",
        "c) preço médio das diárias nos 10 bairros mais caros da cidade;\\\n",
        "d) preço médio das diárias em acomodações situadas no continente (*terraferma*) e nas ilhas (*isole*);\\\n",
        "e) distribuição das acomodações pela cidade.\n",
        "\n",
        "Uma vez que os dados utilizados são uma pequena fração do conjunto de dados completo disponibilizado pela Airbnb, entendemos que em uma próxima abordagem podemos estender os estudos pelas demais variáveis (106 ao todo) com vistas a obter insights mais abrangentes e profundos, ao mesmo tempo.\n",
        "\n"
      ]
    }
  ]
}