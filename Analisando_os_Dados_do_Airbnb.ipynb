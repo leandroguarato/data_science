{
  "nbformat": 4,
  "nbformat_minor": 0,
  "metadata": {
    "colab": {
      "name": "[Template] Analisando os Dados do Airbnb.ipynb",
      "provenance": [],
      "collapsed_sections": [],
      "toc_visible": true,
      "include_colab_link": true
    },
    "kernelspec": {
      "name": "python3",
      "display_name": "Python 3"
    }
  },
  "cells": [
    {
      "cell_type": "markdown",
      "metadata": {
        "id": "view-in-github",
        "colab_type": "text"
      },
      "source": [
        "<a href=\"https://colab.research.google.com/github/leandroguarato/data_science/blob/master/Analisando_os_Dados_do_Airbnb.ipynb\" target=\"_parent\"><img src=\"https://colab.research.google.com/assets/colab-badge.svg\" alt=\"Open In Colab\"/></a>"
      ]
    },
    {
      "cell_type": "markdown",
      "metadata": {
        "id": "kLI0gJtzDGuQ",
        "colab_type": "text"
      },
      "source": [
        "---\n",
        "\n",
        "# Análise dos Dados do **Airbnb em Veneza, Itália**\n",
        "\n",
        "O [Airbnb](https://www.airbnb.com.br/) começou em 2008 e já é considerado como sendo a **maior empresa hoteleira da atualidade**, mesmo sem possuir um único hotel! Ao final de 2018 a Startup completava 10 anos desde sua fundação e já havia hospedado mais de 300 milhões de pessoas ao redor de todo o mundo, desafiando as grandes redes hoteleiras tradicionais.\n",
        "\n",
        "Seu principal negócio está na conexão de pessoas que querem viajar (e se hospedar) com anfitriões que querem alugar seus imóveis (ou parte deles) de maneira prática, fornecendo uma plataforma inovadora para tornar essa **hospedagem alternativa** e viável.\n",
        "\n",
        "O Airbnb faz parte da **economia do compartilhamento**, que pressupõe novas formas de estruturação do trabalho, na mutualização dos bens, espaços e instrumentos, na organização dos cidadãos em redes ou comunidades e que, geralmente, são intermediadas por plataformas de internet.\n",
        "\n",
        "Uma das iniciativas da empresa neste sentido é disponibilizar dados do site de algumas das principais cidades do mundo. Por meio do portal [Inside Airbnb](http://insideairbnb.com/get-the-data.html) é possível baixar uma grande quantidade de dados para desenvolver projetos e soluções de **Data Science**.\n",
        "\n",
        "<center><img alt=\"Analisando Airbnb\" width=\"20%\" src=\"https://www.area360.com.au/wp-content/uploads/2017/09/airbnb-logo.jpg\"></center>\n",
        "\n",
        "Neste *notebook*, iremos analisar os dados referentes à cidade de **Veneza, situada no nordeste da Itália**, um dos mais importantes destinos turísticos do mundo, e ver quais insights podem ser extraídos a partir dos dados brutos disponibilizados.\n",
        "\n",
        "Veneza é uma cidade situada sobre um grupo de 117 pequenas ilhas separadas por canais e ligadas por pontes. Localizada na pantanosa Lagoa de Veneza, que se estende ao longo da costa entre as bocas dos rios Po e Piave. **A cidade é muito famosa pela beleza de sua arquitetura e obras de arte, sendo uma parte dela listada pela UNESCO como Patrimônio da Humanidade**, juntamente com a sua lagoa.\n",
        "\n",
        "<img alt=\"Canal de Veneza\" width=\"80%\" src=\"https://github.com/leandroguarato/data_science/raw/master/imagens/Canaldeveneza.jpg\">\n",
        "\n",
        "Veneza é a capital da região de Veneto. **Estima-se que atualmente a população no centro histórico de Veneza seja de aproximadamente 50 mil habitantes**, número que vem reduzindo sistematicamente desde a Segunda Guerra Mundial, quando se estimava uma população em torno de 175 mil habitantes. O principal motivo é o aumento expressivo do turismo na cidade, tornando os aluguéis e o custo de vida no local muito altos.\n",
        "\n",
        "**O centro da cidade segue uma tradição de divisão em bairros chamados *sestieri* (plural de *sestiere*), que são os seis a seguir: a) Cannaregio, b) Castello, c) Dorsoduro (inclui a ilha Giudecca), d) San Marco, e) San Polo e f) Santa Croce.** Além do centro histórico situado na ilha principal, há também outras ilhas na lagoa e a parte situada em *Terraferma* (continente), principalmente na grande *frazioni* (equivalente a \"paróquias\" ou \"divisões\" em outros países) de Mestre e Marghera."
      ]
    },
    {
      "cell_type": "markdown",
      "metadata": {
        "id": "0zxQHhIUDF_2",
        "colab_type": "text"
      },
      "source": [
        "## Obtenção dos Dados\n"
      ]
    },
    {
      "cell_type": "markdown",
      "metadata": {
        "id": "UXIXTAF_5tdf",
        "colab_type": "text"
      },
      "source": [
        "Conforme já mencionado, os dados foram obtidos no portal [Inside Airbnb](http://insideairbnb.com/get-the-data.html), e este *dataset* que utilizamos é uma versão \"resumida\" do Airbnb para a cidade de Veneza."
      ]
    },
    {
      "cell_type": "code",
      "metadata": {
        "id": "Vhp2wMPgJ6zX",
        "colab_type": "code",
        "outputId": "757fd518-72b6-4c35-f79e-db2aaf3fbad6",
        "colab": {
          "base_uri": "https://localhost:8080/",
          "height": 72
        }
      },
      "source": [
        "# importar os pacotes necessarios\n",
        "import pandas as pd\n",
        "import matplotlib.pyplot as plt\n",
        "import seaborn as sns\n",
        "\n",
        "%matplotlib inline"
      ],
      "execution_count": 0,
      "outputs": [
        {
          "output_type": "stream",
          "text": [
            "/usr/local/lib/python3.6/dist-packages/statsmodels/tools/_testing.py:19: FutureWarning: pandas.util.testing is deprecated. Use the functions in the public API at pandas.testing instead.\n",
            "  import pandas.util.testing as tm\n"
          ],
          "name": "stderr"
        }
      ]
    },
    {
      "cell_type": "code",
      "metadata": {
        "id": "tUmoAT8DLQ5T",
        "colab_type": "code",
        "colab": {}
      },
      "source": [
        "# importar o arquivo listings.csv para um DataFrame\n",
        "df=pd.read_csv('http://data.insideairbnb.com/italy/veneto/venice/2020-04-29/visualisations/listings.csv')"
      ],
      "execution_count": 0,
      "outputs": []
    },
    {
      "cell_type": "markdown",
      "metadata": {
        "id": "qb5By2nIMS6m",
        "colab_type": "text"
      },
      "source": [
        "## Análise dos Dados\n"
      ]
    },
    {
      "cell_type": "markdown",
      "metadata": {
        "id": "RYgvuebKNg8-",
        "colab_type": "text"
      },
      "source": [
        "**Dicionário das variáveis**\n",
        "\n",
        "* `id` - número de id gerado para identificar o imóvel\n",
        "* `name` - nome do imóvel anunciado\n",
        "* `host_id` - número de id do proprietário (anfitrião) do imóvel\n",
        "* `host_name` - nome do anfitrião\n",
        "* `neighbourhood_group` - informa se o imóvel está no continente (*terraferma*) ou em alguma ilha (*isole*)\n",
        "* `neighbourhood` - nome do bairro\n",
        "* `latitude` - coordenada da latitude do imóvel\n",
        "* `longitude` - coordenada da longitude do imóvel\n",
        "* `room_type` - informa o tipo de quarto que é oferecido\n",
        "* `price` - preço para alugar o imóvel\n",
        "* `minimum_nights` - quantidade mínima de noites para reservar\n",
        "* `number_of_reviews` - número de reviews que o imóvel possui\n",
        "* `last_review` - data do último review\n",
        "* `reviews_per_month` - quantidade de reviews por mês\n",
        "* `calculated_host_listings_count` - quantidade de imóveis do mesmo anfitrião\n",
        "* `availability_365` - número de dias de disponibilidade dentro de 365 dias.\n",
        "\n",
        "\n",
        "Antes de iniciar qualquer análise, vamos verificar a cara do nosso *dataset*, analisando as 5 primeiras entradas."
      ]
    },
    {
      "cell_type": "code",
      "metadata": {
        "id": "2iS_dae7YQtO",
        "colab_type": "code",
        "outputId": "d6312a8b-1d3f-40a7-f1ef-4ee5c7ce411e",
        "colab": {
          "base_uri": "https://localhost:8080/",
          "height": 434
        }
      },
      "source": [
        "# mostrar as 5 primeiras entradas\n",
        "df.head()"
      ],
      "execution_count": 0,
      "outputs": [
        {
          "output_type": "execute_result",
          "data": {
            "text/html": [
              "<div>\n",
              "<style scoped>\n",
              "    .dataframe tbody tr th:only-of-type {\n",
              "        vertical-align: middle;\n",
              "    }\n",
              "\n",
              "    .dataframe tbody tr th {\n",
              "        vertical-align: top;\n",
              "    }\n",
              "\n",
              "    .dataframe thead th {\n",
              "        text-align: right;\n",
              "    }\n",
              "</style>\n",
              "<table border=\"1\" class=\"dataframe\">\n",
              "  <thead>\n",
              "    <tr style=\"text-align: right;\">\n",
              "      <th></th>\n",
              "      <th>id</th>\n",
              "      <th>name</th>\n",
              "      <th>host_id</th>\n",
              "      <th>host_name</th>\n",
              "      <th>neighbourhood_group</th>\n",
              "      <th>neighbourhood</th>\n",
              "      <th>latitude</th>\n",
              "      <th>longitude</th>\n",
              "      <th>room_type</th>\n",
              "      <th>price</th>\n",
              "      <th>minimum_nights</th>\n",
              "      <th>number_of_reviews</th>\n",
              "      <th>last_review</th>\n",
              "      <th>reviews_per_month</th>\n",
              "      <th>calculated_host_listings_count</th>\n",
              "      <th>availability_365</th>\n",
              "    </tr>\n",
              "  </thead>\n",
              "  <tbody>\n",
              "    <tr>\n",
              "      <th>0</th>\n",
              "      <td>6623</td>\n",
              "      <td>Venice Blue on Canal apartment</td>\n",
              "      <td>15016</td>\n",
              "      <td>Francesca</td>\n",
              "      <td>Isole</td>\n",
              "      <td>San Polo</td>\n",
              "      <td>45.43823</td>\n",
              "      <td>12.32902</td>\n",
              "      <td>Entire home/apt</td>\n",
              "      <td>225</td>\n",
              "      <td>7</td>\n",
              "      <td>162</td>\n",
              "      <td>2019-11-06</td>\n",
              "      <td>1.27</td>\n",
              "      <td>3</td>\n",
              "      <td>326</td>\n",
              "    </tr>\n",
              "    <tr>\n",
              "      <th>1</th>\n",
              "      <td>6624</td>\n",
              "      <td>Venice garden charme and canal view!</td>\n",
              "      <td>15016</td>\n",
              "      <td>Francesca</td>\n",
              "      <td>Isole</td>\n",
              "      <td>San Polo</td>\n",
              "      <td>45.43845</td>\n",
              "      <td>12.32869</td>\n",
              "      <td>Entire home/apt</td>\n",
              "      <td>272</td>\n",
              "      <td>7</td>\n",
              "      <td>64</td>\n",
              "      <td>2019-11-03</td>\n",
              "      <td>0.61</td>\n",
              "      <td>3</td>\n",
              "      <td>1</td>\n",
              "    </tr>\n",
              "    <tr>\n",
              "      <th>2</th>\n",
              "      <td>12074</td>\n",
              "      <td>Venice home to relax and emotions</td>\n",
              "      <td>15016</td>\n",
              "      <td>Francesca</td>\n",
              "      <td>Isole</td>\n",
              "      <td>San Polo</td>\n",
              "      <td>45.43827</td>\n",
              "      <td>12.32764</td>\n",
              "      <td>Entire home/apt</td>\n",
              "      <td>122</td>\n",
              "      <td>4</td>\n",
              "      <td>184</td>\n",
              "      <td>2019-10-07</td>\n",
              "      <td>1.51</td>\n",
              "      <td>3</td>\n",
              "      <td>105</td>\n",
              "    </tr>\n",
              "    <tr>\n",
              "      <th>3</th>\n",
              "      <td>27116</td>\n",
              "      <td>Charming room with balcony close to S. Mark's</td>\n",
              "      <td>116144</td>\n",
              "      <td>Gianni</td>\n",
              "      <td>Isole</td>\n",
              "      <td>San Marco</td>\n",
              "      <td>45.43221</td>\n",
              "      <td>12.33411</td>\n",
              "      <td>Private room</td>\n",
              "      <td>190</td>\n",
              "      <td>1</td>\n",
              "      <td>410</td>\n",
              "      <td>2020-02-21</td>\n",
              "      <td>3.46</td>\n",
              "      <td>2</td>\n",
              "      <td>318</td>\n",
              "    </tr>\n",
              "    <tr>\n",
              "      <th>4</th>\n",
              "      <td>33934</td>\n",
              "      <td>LOVELY APARTMENT IN THE CENTER</td>\n",
              "      <td>119219</td>\n",
              "      <td>Elisa</td>\n",
              "      <td>Isole</td>\n",
              "      <td>Cannaregio</td>\n",
              "      <td>45.44480</td>\n",
              "      <td>12.33121</td>\n",
              "      <td>Entire home/apt</td>\n",
              "      <td>103</td>\n",
              "      <td>2</td>\n",
              "      <td>133</td>\n",
              "      <td>2019-10-13</td>\n",
              "      <td>1.13</td>\n",
              "      <td>1</td>\n",
              "      <td>89</td>\n",
              "    </tr>\n",
              "  </tbody>\n",
              "</table>\n",
              "</div>"
            ],
            "text/plain": [
              "      id  ... availability_365\n",
              "0   6623  ...              326\n",
              "1   6624  ...                1\n",
              "2  12074  ...              105\n",
              "3  27116  ...              318\n",
              "4  33934  ...               89\n",
              "\n",
              "[5 rows x 16 columns]"
            ]
          },
          "metadata": {
            "tags": []
          },
          "execution_count": 25
        }
      ]
    },
    {
      "cell_type": "markdown",
      "metadata": {
        "id": "cznMLI7P7z7v",
        "colab_type": "text"
      },
      "source": [
        "___"
      ]
    },
    {
      "cell_type": "markdown",
      "metadata": {
        "colab_type": "text",
        "id": "pW4K4zm3vLyA"
      },
      "source": [
        "### **Q1. Quantos atributos (variáveis) e quantas entradas o nosso conjunto de dados possui? Quais os tipos das variáveis?**\n",
        "\n",
        "É preciso identificar a quantidade de entradas e variáveis que nosso conjunto de dados possui, além de ver os tipos de cada coluna.\n",
        "\n",
        "Embora estejamos utilizando este *dataset* menor, na mesma página que baixamos o arquivo `listings.csv` há uma versão mais completa tendo as mesmas 8829 entradas, porém com um total de 106 variáveis - `listings.csv.gz`."
      ]
    },
    {
      "cell_type": "code",
      "metadata": {
        "id": "EGZpFfDZj-oS",
        "colab_type": "code",
        "outputId": "bbe18145-01de-4299-8214-cd7fab779de0",
        "colab": {
          "base_uri": "https://localhost:8080/",
          "height": 372
        }
      },
      "source": [
        "# identificar o volume de dados do DataFrame\n",
        "print(\"Entradas:\\t {}\".format(df.shape[0]))\n",
        "print(\"Variáveis:\\t {}\\n\".format(df.shape[1]))\n",
        "\n",
        "# verificar as 5 primeiras entradas do dataset\n",
        "display(df.dtypes)  # Ou somente df.types"
      ],
      "execution_count": 0,
      "outputs": [
        {
          "output_type": "stream",
          "text": [
            "Entradas:\t 8829\n",
            "Variáveis:\t 16\n",
            "\n"
          ],
          "name": "stdout"
        },
        {
          "output_type": "display_data",
          "data": {
            "text/plain": [
              "id                                  int64\n",
              "name                               object\n",
              "host_id                             int64\n",
              "host_name                          object\n",
              "neighbourhood_group                object\n",
              "neighbourhood                      object\n",
              "latitude                          float64\n",
              "longitude                         float64\n",
              "room_type                          object\n",
              "price                               int64\n",
              "minimum_nights                      int64\n",
              "number_of_reviews                   int64\n",
              "last_review                        object\n",
              "reviews_per_month                 float64\n",
              "calculated_host_listings_count      int64\n",
              "availability_365                    int64\n",
              "dtype: object"
            ]
          },
          "metadata": {
            "tags": []
          }
        }
      ]
    },
    {
      "cell_type": "markdown",
      "metadata": {
        "id": "MsjVMblgpAj6",
        "colab_type": "text"
      },
      "source": [
        "___\n"
      ]
    },
    {
      "cell_type": "markdown",
      "metadata": {
        "id": "yz1urSUGW9iE",
        "colab_type": "text"
      },
      "source": [
        "### **Q2. Qual a porcentagem de valores ausentes no *dataset*?**"
      ]
    },
    {
      "cell_type": "markdown",
      "metadata": {
        "id": "lfFSWbgv4uNS",
        "colab_type": "text"
      },
      "source": [
        "A qualidade de um dataset está diretamente relacionada à quantidade de valores ausentes. É essencial compreender se esses valores nulos são significativos comparados ao total de entradas.\n",
        "\n",
        "* Diante da análise abaixo demonstrada, é possível ver que as colunas `reviews por month` e `last_review` possuem 13,16% dos seus valores faltantes, enquanto a coluna `host_name` possui apenas 1 valor nulo, o que significa menos de 0,01% dos valores totais.\n",
        "\n",
        "Entretanto, esses dados faltantes não são sensíveis ao ponto de prejudicar as análises, e podemos prosseguir sem a necessidade de excluir por completo os registros que apresentam tais ausências.\n"
      ]
    },
    {
      "cell_type": "code",
      "metadata": {
        "id": "plk2FjbCXOqP",
        "colab_type": "code",
        "outputId": "3dc33ff1-813e-4492-9a0f-84d886b09b42",
        "colab": {
          "base_uri": "https://localhost:8080/",
          "height": 318
        }
      },
      "source": [
        "# ordenar em ordem decrescente as variáveis por seus valores ausentes\n",
        "(df.isnull().sum() / df.shape[0]).sort_values(ascending=False)"
      ],
      "execution_count": 0,
      "outputs": [
        {
          "output_type": "execute_result",
          "data": {
            "text/plain": [
              "reviews_per_month                 0.131612\n",
              "last_review                       0.131612\n",
              "host_name                         0.000113\n",
              "availability_365                  0.000000\n",
              "calculated_host_listings_count    0.000000\n",
              "number_of_reviews                 0.000000\n",
              "minimum_nights                    0.000000\n",
              "price                             0.000000\n",
              "room_type                         0.000000\n",
              "longitude                         0.000000\n",
              "latitude                          0.000000\n",
              "neighbourhood                     0.000000\n",
              "neighbourhood_group               0.000000\n",
              "host_id                           0.000000\n",
              "name                              0.000000\n",
              "id                                0.000000\n",
              "dtype: float64"
            ]
          },
          "metadata": {
            "tags": []
          },
          "execution_count": 27
        }
      ]
    },
    {
      "cell_type": "markdown",
      "metadata": {
        "id": "sr7qzoicpD9D",
        "colab_type": "text"
      },
      "source": [
        "___\n"
      ]
    },
    {
      "cell_type": "markdown",
      "metadata": {
        "id": "iHXvvHIxaoNc",
        "colab_type": "text"
      },
      "source": [
        "### **Q3. Qual o tipo de distribuição das variáveis?** "
      ]
    },
    {
      "cell_type": "markdown",
      "metadata": {
        "id": "BSRnP-RqmaN5",
        "colab_type": "text"
      },
      "source": [
        "Uma das melhores maneiras de identificar a distribuição dos dados e a presença de *outliers* (valores discrepantes) é plotando-os em gráficos em forma de histogramas. "
      ]
    },
    {
      "cell_type": "code",
      "metadata": {
        "id": "q2wWSfeRbmBo",
        "colab_type": "code",
        "outputId": "e61d5106-c760-478a-fd5b-a859b2d385e7",
        "colab": {
          "base_uri": "https://localhost:8080/",
          "height": 606
        }
      },
      "source": [
        "# plotar o histograma das variáveis numéricas\n",
        "df.hist(bins=15, figsize=(15,10));"
      ],
      "execution_count": 0,
      "outputs": [
        {
          "output_type": "display_data",
          "data": {
            "image/png": "[encoded data removed]",
            "text/plain": [
              "<Figure size 1080x720 with 12 Axes>"
            ]
          },
          "metadata": {
            "tags": [],
            "needs_background": "light"
          }
        }
      ]
    },
    {
      "cell_type": "markdown",
      "metadata": {
        "id": "_WSDdk6cpK_u",
        "colab_type": "text"
      },
      "source": [
        "___\n"
      ]
    },
    {
      "cell_type": "markdown",
      "metadata": {
        "id": "A1QGAYmWZau8",
        "colab_type": "text"
      },
      "source": [
        "### **Q4. Há outliers presentes no dataset?**"
      ]
    },
    {
      "cell_type": "markdown",
      "metadata": {
        "id": "uV2LrlseZtU2",
        "colab_type": "text"
      },
      "source": [
        "Pela distribuição dos histogramas vistos acima, verificamos que há  indícios da presença de alguns *outliers*. Olhe por exemplo as variáveis `price`, `minimum_nights` e `calculated_host_listings_count`.\n",
        "\n",
        "Os valores não seguem uma distribuição e distorcem toda a representação gráfica. Para confirmar, há duas maneiras rápidas que auxiliam na detecção de *outliers*. São elas:\n",
        "\n",
        "* Resumo estatístico por meio do método `describe()`\n",
        "* Plotagem de `boxplots` para a variável."
      ]
    },
    {
      "cell_type": "code",
      "metadata": {
        "id": "bs5-HjS4bfJV",
        "colab_type": "code",
        "outputId": "2b1d86b1-531f-4ee4-ed4c-681990836d8f",
        "colab": {
          "base_uri": "https://localhost:8080/",
          "height": 287
        }
      },
      "source": [
        "# ver o resumo estatístico das variáveis numéricas\n",
        "df[['price', 'minimum_nights', 'number_of_reviews', 'reviews_per_month',\n",
        "    'calculated_host_listings_count', 'availability_365']].describe()"
      ],
      "execution_count": 0,
      "outputs": [
        {
          "output_type": "execute_result",
          "data": {
            "text/html": [
              "<div>\n",
              "<style scoped>\n",
              "    .dataframe tbody tr th:only-of-type {\n",
              "        vertical-align: middle;\n",
              "    }\n",
              "\n",
              "    .dataframe tbody tr th {\n",
              "        vertical-align: top;\n",
              "    }\n",
              "\n",
              "    .dataframe thead th {\n",
              "        text-align: right;\n",
              "    }\n",
              "</style>\n",
              "<table border=\"1\" class=\"dataframe\">\n",
              "  <thead>\n",
              "    <tr style=\"text-align: right;\">\n",
              "      <th></th>\n",
              "      <th>price</th>\n",
              "      <th>minimum_nights</th>\n",
              "      <th>number_of_reviews</th>\n",
              "      <th>reviews_per_month</th>\n",
              "      <th>calculated_host_listings_count</th>\n",
              "      <th>availability_365</th>\n",
              "    </tr>\n",
              "  </thead>\n",
              "  <tbody>\n",
              "    <tr>\n",
              "      <th>count</th>\n",
              "      <td>8829.000000</td>\n",
              "      <td>8829.000000</td>\n",
              "      <td>8829.000000</td>\n",
              "      <td>7667.000000</td>\n",
              "      <td>8829.000000</td>\n",
              "      <td>8829.000000</td>\n",
              "    </tr>\n",
              "    <tr>\n",
              "      <th>mean</th>\n",
              "      <td>147.028203</td>\n",
              "      <td>2.138521</td>\n",
              "      <td>60.060822</td>\n",
              "      <td>1.880480</td>\n",
              "      <td>10.793182</td>\n",
              "      <td>220.382943</td>\n",
              "    </tr>\n",
              "    <tr>\n",
              "      <th>std</th>\n",
              "      <td>199.148896</td>\n",
              "      <td>2.523779</td>\n",
              "      <td>85.153467</td>\n",
              "      <td>1.894344</td>\n",
              "      <td>20.973613</td>\n",
              "      <td>140.195368</td>\n",
              "    </tr>\n",
              "    <tr>\n",
              "      <th>min</th>\n",
              "      <td>9.000000</td>\n",
              "      <td>1.000000</td>\n",
              "      <td>0.000000</td>\n",
              "      <td>0.010000</td>\n",
              "      <td>1.000000</td>\n",
              "      <td>0.000000</td>\n",
              "    </tr>\n",
              "    <tr>\n",
              "      <th>25%</th>\n",
              "      <td>78.000000</td>\n",
              "      <td>1.000000</td>\n",
              "      <td>4.000000</td>\n",
              "      <td>0.450000</td>\n",
              "      <td>1.000000</td>\n",
              "      <td>89.000000</td>\n",
              "    </tr>\n",
              "    <tr>\n",
              "      <th>50%</th>\n",
              "      <td>110.000000</td>\n",
              "      <td>2.000000</td>\n",
              "      <td>25.000000</td>\n",
              "      <td>1.310000</td>\n",
              "      <td>3.000000</td>\n",
              "      <td>268.000000</td>\n",
              "    </tr>\n",
              "    <tr>\n",
              "      <th>75%</th>\n",
              "      <td>150.000000</td>\n",
              "      <td>2.000000</td>\n",
              "      <td>81.000000</td>\n",
              "      <td>2.710000</td>\n",
              "      <td>8.000000</td>\n",
              "      <td>351.000000</td>\n",
              "    </tr>\n",
              "    <tr>\n",
              "      <th>max</th>\n",
              "      <td>8459.000000</td>\n",
              "      <td>107.000000</td>\n",
              "      <td>899.000000</td>\n",
              "      <td>40.600000</td>\n",
              "      <td>121.000000</td>\n",
              "      <td>365.000000</td>\n",
              "    </tr>\n",
              "  </tbody>\n",
              "</table>\n",
              "</div>"
            ],
            "text/plain": [
              "             price  ...  availability_365\n",
              "count  8829.000000  ...       8829.000000\n",
              "mean    147.028203  ...        220.382943\n",
              "std     199.148896  ...        140.195368\n",
              "min       9.000000  ...          0.000000\n",
              "25%      78.000000  ...         89.000000\n",
              "50%     110.000000  ...        268.000000\n",
              "75%     150.000000  ...        351.000000\n",
              "max    8459.000000  ...        365.000000\n",
              "\n",
              "[8 rows x 6 columns]"
            ]
          },
          "metadata": {
            "tags": []
          },
          "execution_count": 29
        }
      ]
    },
    {
      "cell_type": "markdown",
      "metadata": {
        "id": "99RG4Lj_bveN",
        "colab_type": "text"
      },
      "source": [
        "Olhando o resumo estatístico acima, podemos confirmar algumas hipóteses como:\n",
        "\n",
        "* A variável `price` possui 75% dos valores abaixo de 150 euros, porém o maior valor do conjunto de dados é de 8459,00 euros, valor que muito provavelmente é um erro constante do *dataset*, o que virá a distorcer as nossas análises relacionadas aos preços de hospedagem.\n",
        "* A variável `minimum_nights` (quantidade mínima de noites), por sua vez, possui 75% dos valores entre 1 e 2 dias, e traz um valor máximo de 107 dias, o que também aparenta ser um erro do *dataset* e poderá acarretar em prejuízo às análises.\n",
        "* Quanto à variável `calculated_host_listings_count`, que representa a quantidade de imóveis do mesmo anfitrião na cidade, embora aparentemente tenha um valor máximo discrepante de 121, não analisaremos este dado especificamente."
      ]
    },
    {
      "cell_type": "markdown",
      "metadata": {
        "id": "OMVGi2sd-739",
        "colab_type": "text"
      },
      "source": [
        "Para atingir uma melhor acurácia na apuração dos *outliers* iremos aplicar um método estatístico conhecido como **Regra \"1.5 * IQR\"**, sendo o **IQR** a abreviação de **Interquartile Range**. \n",
        "Há sempre a possibilidade de existirem outliers abaixo e acima do nosso conjuntos de dados e veremos a seguir como a regra se aplica:\n",
        "* Dizemos que um dado é um *outlier* abaixo do conjunto de dados quando ele é menor que **\"Q1 - 1.5 * IQR\"**, com **Q1 sendo o primeiro quartil**;\n",
        "* E dizemos que um dado é um *outlier* acima do conjunto de dados quando ele é maior que **\"Q3 + 1.5 * IQR\"**, com **Q3 sendo o terceiro quartil**.\n",
        "* Por fim, o IQR é representado pela fórmula **\"IQR = Q3 - Q1\"**.\n"
      ]
    },
    {
      "cell_type": "markdown",
      "metadata": {
        "id": "XwLi8OrJ5ntK",
        "colab_type": "text"
      },
      "source": [
        "#### Boxplot para *minimum_nights*\n",
        "\n",
        "Precisamos aplicar, portanto, a regra acima explicada às nossas variáveis em análise, e começaremos com a `minimum_nights`.\n",
        "\n",
        "A partir dos dados conseguidos no método describe(), identificamos que o Q1 e o Q3 da nossa variável são, respectivamente 1 e 2, ou seja, 25% dos nossos dados tem o valor 1 e 75% dos nossos dados estão abaixo de 2. Assim, o IQR será Q3 - Q1, ou melhor, **IQR = 2 - 1 = 1**. \n",
        "Neste caso, não teremos valores abaixo do Q1, uma vez que o valor mínimo será 1, e nunca será menos que isso, pois trata-se da menor quantidade de dias exigidos para locação do imóvel.\n",
        "Quanto aos valores *outliers* acima, precisamos então aplicar a fórmula **Q3 + 1.5 * IQR**, que será **2 + 1.5 * 1 = 3,5**, ou seja, todos os números acima de 3,5 podemos considerar *outliers* acima do nosso limite superior."
      ]
    },
    {
      "cell_type": "code",
      "metadata": {
        "id": "gf4kekugdKeA",
        "colab_type": "code",
        "outputId": "d3f00243-3bc6-4c30-c2ff-868073fe2d70",
        "colab": {
          "base_uri": "https://localhost:8080/",
          "height": 210
        }
      },
      "source": [
        "# minimum_nights\n",
        "df.minimum_nights.plot(kind='box', vert=False, figsize=(17, 2))\n",
        "plt.show()\n",
        "\n",
        "# ver quantidade de valores acima de 3 dias para minimum_nights\n",
        "print(\"minimum_nights: Valores acima de 3.5:\")\n",
        "print(\"{} entradas\".format(len(df[df.minimum_nights > 3.5])))\n",
        "print(\"{:.4f}%\".format((len(df[df.minimum_nights > 3.5]) / df.shape[0])*100))"
      ],
      "execution_count": 0,
      "outputs": [
        {
          "output_type": "display_data",
          "data": {
            "image/png": "[encoded data removed]",
            "text/plain": [
              "<Figure size 1224x144 with 1 Axes>"
            ]
          },
          "metadata": {
            "tags": [],
            "needs_background": "light"
          }
        },
        {
          "output_type": "stream",
          "text": [
            "minimum_nights: Valores acima de 3.5:\n",
            "425 entradas\n",
            "4.8137%\n"
          ],
          "name": "stdout"
        }
      ]
    },
    {
      "cell_type": "markdown",
      "metadata": {
        "id": "jXiCxRF_dbQZ",
        "colab_type": "text"
      },
      "source": [
        "#### Boxplot para *price*"
      ]
    },
    {
      "cell_type": "markdown",
      "metadata": {
        "id": "2X5CmKb2GEbA",
        "colab_type": "text"
      },
      "source": [
        "Da mesma maneira, aplicaremos a regra do **1.5 * IQR** à variável `price`.\n",
        "\n",
        "A partir dos dados obtidos no método describe(), identificamos que o Q1 e o Q3 da nossa variável são, respectivamente 9 e 150, ou seja, 25% dos nossos dados tem o valor abaixo de 78 e 75% dos nossos dados estão abaixo de 150. Assim, o IQR será Q3 - Q1, ou melhor, **IQR = 150 - 78 = 72**. \n",
        "\n",
        "No presente caso, a verificação para os valores abaixo do limite inferior excluirá aqueles registros que tenham como valor na variável `price`, preços abaixo de **Q1 - 1.5 * IQR**, ou seja, **78 - 1.5 * 72 = 78 - 108 = -30**. Ora, sabemos que não haverá preços negativos, então, desta forma concluímos que não há outliers no limite inferior e aqui não efetuaremos exclusões.\n",
        "\n",
        "Por outro lado, quanto aos valores outliers do limite superior, precisamos então aplicar a fórmula **Q3 + 1.5 * IQR**, que será **150 + 1.5 * 72 = 150 + 108 = 258**, ou seja, todos os números acima de **258** podemos considerar outliers acima do nosso limite superior e devem ser excluídos."
      ]
    },
    {
      "cell_type": "code",
      "metadata": {
        "id": "Rei3qpCvdlDM",
        "colab_type": "code",
        "outputId": "d9c9d185-42fa-4d97-bcf8-66800c83098b",
        "colab": {
          "base_uri": "https://localhost:8080/",
          "height": 227
        }
      },
      "source": [
        "# price\n",
        "df.price.plot(kind='box', vert=False, figsize=(17, 2),)\n",
        "plt.show()\n",
        "\n",
        "# ver quantidade de valores acima de 1200 para price\n",
        "print(\"\\nprice: Valores acima de 258\")\n",
        "print(\"{} entradas\".format(len(df[df.price > 258])))\n",
        "print(\"{:.4f}%\".format((len(df[df.price > 258]) / df.shape[0])*100))\n",
        "\n",
        "# df.price.plot(kind='box', vert=False, xlim=(0,1250), figsize=(15,3));"
      ],
      "execution_count": 0,
      "outputs": [
        {
          "output_type": "display_data",
          "data": {
            "image/png": "[encoded data removed]",
            "text/plain": [
              "<Figure size 1224x144 with 1 Axes>"
            ]
          },
          "metadata": {
            "tags": [],
            "needs_background": "light"
          }
        },
        {
          "output_type": "stream",
          "text": [
            "\n",
            "price: Valores acima de 258\n",
            "731 entradas\n",
            "8.2795%\n"
          ],
          "name": "stdout"
        }
      ]
    },
    {
      "cell_type": "markdown",
      "metadata": {
        "id": "YIbY5-e5eM2o",
        "colab_type": "text"
      },
      "source": [
        "#### Histogramas sem *outliers*\n",
        "\n",
        "Uma vez identificados os *outliers* das variáveis `minimum_nights` e `price`, faz-se necessário excluir esses registros do *DataFrame* e plotar novamente os gráficos de histograma.\n",
        "* Adotaremos em relação à variável `minimum_nights`, faremos a exclusão dos valores acima de 3,5 dias.\n",
        "* Da mesma forma, relativamente à variável `price` a exclusão dos valores acima de 258 euros por diária;\n"
      ]
    },
    {
      "cell_type": "code",
      "metadata": {
        "id": "kAdP0godeOJu",
        "colab_type": "code",
        "outputId": "586198fe-e954-47c6-9f1c-7d59dc98570e",
        "colab": {
          "base_uri": "https://localhost:8080/",
          "height": 606
        }
      },
      "source": [
        "# removendo os *outliers* e gravando os registros em um novo DataFrame\n",
        "df_clean = df.copy()\n",
        "df_clean.drop(df_clean[df_clean.price > 258].index, axis=0, inplace=True)\n",
        "df_clean.drop(df_clean[df_clean.minimum_nights > 3.5].index, axis=0, inplace=True)\n",
        "\n",
        "# plotar o histograma para as variáveis numéricas\n",
        "df_clean.hist(bins=15, figsize=(15,10));"
      ],
      "execution_count": 0,
      "outputs": [
        {
          "output_type": "display_data",
          "data": {
            "image/png": "[encoded data removed]",
            "text/plain": [
              "<Figure size 1080x720 with 12 Axes>"
            ]
          },
          "metadata": {
            "tags": [],
            "needs_background": "light"
          }
        }
      ]
    },
    {
      "cell_type": "markdown",
      "metadata": {
        "id": "E5QO9G3CPVV1",
        "colab_type": "text"
      },
      "source": [
        "Os gráficos de *bloxpot* novamente mostrados após a exclusão dos *outliers*."
      ]
    },
    {
      "cell_type": "code",
      "metadata": {
        "id": "eEWsGVIpOxCd",
        "colab_type": "code",
        "outputId": "e6c3bfb2-21d2-4df2-efb0-1b5d76ae5cbc",
        "colab": {
          "base_uri": "https://localhost:8080/",
          "height": 210
        }
      },
      "source": [
        "# minimum_nights\n",
        "df_clean.minimum_nights.plot(kind='box', vert=False, figsize=(17, 2))\n",
        "plt.show()\n",
        "\n",
        "# ver quantidade de valores acima de 3 dias para minimum_nights\n",
        "print(\"minimum_nights: Valores acima de 3.5:\")\n",
        "print(\"{} entradas\".format(len(df_clean[df_clean.minimum_nights > 3.5])))\n",
        "print(\"{:.4f}%\".format((len(df_clean[df_clean.minimum_nights > 3.5]) / df.shape[0])*100))"
      ],
      "execution_count": 0,
      "outputs": [
        {
          "output_type": "display_data",
          "data": {
            "image/png": "[encoded data removed]",
            "text/plain": [
              "<Figure size 1224x144 with 1 Axes>"
            ]
          },
          "metadata": {
            "tags": [],
            "needs_background": "light"
          }
        },
        {
          "output_type": "stream",
          "text": [
            "minimum_nights: Valores acima de 3.5:\n",
            "0 entradas\n",
            "0.0000%\n"
          ],
          "name": "stdout"
        }
      ]
    },
    {
      "cell_type": "code",
      "metadata": {
        "id": "jLg11KBOPEzR",
        "colab_type": "code",
        "outputId": "8f411efb-3b2e-4bce-cded-dda5639a2ccb",
        "colab": {
          "base_uri": "https://localhost:8080/",
          "height": 227
        }
      },
      "source": [
        "# price\n",
        "df_clean.price.plot(kind='box', vert=False, figsize=(17, 2),)\n",
        "plt.show()\n",
        "\n",
        "# ver quantidade de valores acima de 1200 para price\n",
        "print(\"\\nprice: Valores acima de 258\")\n",
        "print(\"{} entradas\".format(len(df_clean[df_clean.price > 258])))\n",
        "print(\"{:.4f}%\".format((len(df_clean[df_clean.price > 258]) / df.shape[0])*100))\n",
        "\n",
        "# df_clean.price.plot(kind='box', vert=False, xlim=(0,1250), figsize=(15,3));"
      ],
      "execution_count": 0,
      "outputs": [
        {
          "output_type": "display_data",
          "data": {
            "image/png": "[encoded data removed]",
            "text/plain": [
              "<Figure size 1224x144 with 1 Axes>"
            ]
          },
          "metadata": {
            "tags": [],
            "needs_background": "light"
          }
        },
        {
          "output_type": "stream",
          "text": [
            "\n",
            "price: Valores acima de 258\n",
            "0 entradas\n",
            "0.0000%\n"
          ],
          "name": "stdout"
        }
      ]
    },
    {
      "cell_type": "markdown",
      "metadata": {
        "id": "-POJyQ2RpP-k",
        "colab_type": "text"
      },
      "source": [
        "___\n"
      ]
    },
    {
      "cell_type": "markdown",
      "metadata": {
        "id": "IXn2oIo5qx-w",
        "colab_type": "text"
      },
      "source": [
        "### **Q5. Qual a correlação existente entre as variáveis?**"
      ]
    },
    {
      "cell_type": "markdown",
      "metadata": {
        "id": "I8xsClfA0ioF",
        "colab_type": "text"
      },
      "source": [
        "**Correlação** significa dizer que há uma relação positiva, neutra ou negativa entre duas variáveis. No nosso contexto, estamos buscando relação ou semelhança entre duas variáveis.\n",
        "\n",
        "Essa relação pode ser medida e é função do coeficiente de correlação estabelecer qual a intensidade dela. Para identificar as correlações existentes entre as variáveis de interesse, iremos então:\n",
        "\n",
        "* Criar uma matriz de correlação\n",
        "* Gerar um *heatmap* (mapa de calor) a partir dessa matriz, usando a biblioteca `seaborn`\n",
        "\n",
        "No nosso caso, não foram identificadas fortes correlações entre as variáveis mais importantes apresentadas."
      ]
    },
    {
      "cell_type": "code",
      "metadata": {
        "id": "x2ayzBajqxyd",
        "colab_type": "code",
        "outputId": "3d63e954-6c47-47ef-be0b-af9d185ba860",
        "colab": {
          "base_uri": "https://localhost:8080/",
          "height": 247
        }
      },
      "source": [
        "# criando uma matriz de correlação\n",
        "corr = df_clean[['price', 'minimum_nights', 'number_of_reviews', 'reviews_per_month',\n",
        "    'calculated_host_listings_count', 'availability_365']].corr()\n",
        "\n",
        "# mostrando a matriz de correlação\n",
        "display(corr)"
      ],
      "execution_count": 0,
      "outputs": [
        {
          "output_type": "display_data",
          "data": {
            "text/html": [
              "<div>\n",
              "<style scoped>\n",
              "    .dataframe tbody tr th:only-of-type {\n",
              "        vertical-align: middle;\n",
              "    }\n",
              "\n",
              "    .dataframe tbody tr th {\n",
              "        vertical-align: top;\n",
              "    }\n",
              "\n",
              "    .dataframe thead th {\n",
              "        text-align: right;\n",
              "    }\n",
              "</style>\n",
              "<table border=\"1\" class=\"dataframe\">\n",
              "  <thead>\n",
              "    <tr style=\"text-align: right;\">\n",
              "      <th></th>\n",
              "      <th>price</th>\n",
              "      <th>minimum_nights</th>\n",
              "      <th>number_of_reviews</th>\n",
              "      <th>reviews_per_month</th>\n",
              "      <th>calculated_host_listings_count</th>\n",
              "      <th>availability_365</th>\n",
              "    </tr>\n",
              "  </thead>\n",
              "  <tbody>\n",
              "    <tr>\n",
              "      <th>price</th>\n",
              "      <td>1.000000</td>\n",
              "      <td>0.221268</td>\n",
              "      <td>-0.110808</td>\n",
              "      <td>-0.146331</td>\n",
              "      <td>0.100762</td>\n",
              "      <td>0.088682</td>\n",
              "    </tr>\n",
              "    <tr>\n",
              "      <th>minimum_nights</th>\n",
              "      <td>0.221268</td>\n",
              "      <td>1.000000</td>\n",
              "      <td>0.015185</td>\n",
              "      <td>-0.126993</td>\n",
              "      <td>-0.067943</td>\n",
              "      <td>-0.001250</td>\n",
              "    </tr>\n",
              "    <tr>\n",
              "      <th>number_of_reviews</th>\n",
              "      <td>-0.110808</td>\n",
              "      <td>0.015185</td>\n",
              "      <td>1.000000</td>\n",
              "      <td>0.743299</td>\n",
              "      <td>-0.157512</td>\n",
              "      <td>0.058437</td>\n",
              "    </tr>\n",
              "    <tr>\n",
              "      <th>reviews_per_month</th>\n",
              "      <td>-0.146331</td>\n",
              "      <td>-0.126993</td>\n",
              "      <td>0.743299</td>\n",
              "      <td>1.000000</td>\n",
              "      <td>-0.165434</td>\n",
              "      <td>0.036663</td>\n",
              "    </tr>\n",
              "    <tr>\n",
              "      <th>calculated_host_listings_count</th>\n",
              "      <td>0.100762</td>\n",
              "      <td>-0.067943</td>\n",
              "      <td>-0.157512</td>\n",
              "      <td>-0.165434</td>\n",
              "      <td>1.000000</td>\n",
              "      <td>0.065990</td>\n",
              "    </tr>\n",
              "    <tr>\n",
              "      <th>availability_365</th>\n",
              "      <td>0.088682</td>\n",
              "      <td>-0.001250</td>\n",
              "      <td>0.058437</td>\n",
              "      <td>0.036663</td>\n",
              "      <td>0.065990</td>\n",
              "      <td>1.000000</td>\n",
              "    </tr>\n",
              "  </tbody>\n",
              "</table>\n",
              "</div>"
            ],
            "text/plain": [
              "                                   price  ...  availability_365\n",
              "price                           1.000000  ...          0.088682\n",
              "minimum_nights                  0.221268  ...         -0.001250\n",
              "number_of_reviews              -0.110808  ...          0.058437\n",
              "reviews_per_month              -0.146331  ...          0.036663\n",
              "calculated_host_listings_count  0.100762  ...          0.065990\n",
              "availability_365                0.088682  ...          1.000000\n",
              "\n",
              "[6 rows x 6 columns]"
            ]
          },
          "metadata": {
            "tags": []
          }
        }
      ]
    },
    {
      "cell_type": "code",
      "metadata": {
        "id": "91UujDr6ueqE",
        "colab_type": "code",
        "outputId": "6c286212-d9e7-476f-e8ed-2509d8f7fde3",
        "colab": {
          "base_uri": "https://localhost:8080/",
          "height": 411
        }
      },
      "source": [
        "# plotando um heatmap a partir das correlações\n",
        "sns.heatmap(corr, cmap='RdBu', fmt='.2f', square=True, linecolor='white', annot=True);"
      ],
      "execution_count": 0,
      "outputs": [
        {
          "output_type": "display_data",
          "data": {
            "image/png": "[encoded data removed]",
            "text/plain": [
              "<Figure size 432x288 with 2 Axes>"
            ]
          },
          "metadata": {
            "tags": [],
            "needs_background": "light"
          }
        }
      ]
    },
    {
      "cell_type": "markdown",
      "metadata": {
        "id": "E-EH1FDtpXWr",
        "colab_type": "text"
      },
      "source": [
        "___\n"
      ]
    },
    {
      "cell_type": "markdown",
      "metadata": {
        "id": "7b6RMWpuHKN-",
        "colab_type": "text"
      },
      "source": [
        "### **Q6. Quais os tipos de imóveis mais oferecidos para locação no Airbnb, na cidade de Veneza?**"
      ]
    },
    {
      "cell_type": "markdown",
      "metadata": {
        "id": "Y0yrChZa2nL6",
        "colab_type": "text"
      },
      "source": [
        "\n",
        "A coluna `room_type` contém os dados da variável que indica o tipo de acomodação apresentada no anúncio do Airbnb. Pra quem nunca utilizou a plataforma, existem ali opções de apartamentos/casas inteiras, aluguel de um único quarto do imóvel, de um quarto de hotel ou mesmo o aluguel de um quarto compartilhado com outras pessoas.\n",
        "\n",
        "Vamos, portanto, contar a quantidade de ocorrências de cada tipo de unidade de locação anunciada no Airbnb em Veneza, usando o método `value_counts()`.\n",
        "\n",
        "Percebe-se pela demonstração abaixo que os apartamentos/casas inteiras predominam dentre as acomodações ofertadas na cidade de Veneza, sendo quase 65% delas. Em seguida estão os quartos com 19% do total."
      ]
    },
    {
      "cell_type": "code",
      "metadata": {
        "id": "ueLPNWvPHgfB",
        "colab_type": "code",
        "outputId": "fe57b272-1810-4a3b-e336-6e0d18bccb4d",
        "colab": {
          "base_uri": "https://localhost:8080/",
          "height": 105
        }
      },
      "source": [
        "# mostrar a quantidade de cada tipo de imóvel disponível\n",
        "df_clean.room_type.value_counts()"
      ],
      "execution_count": 0,
      "outputs": [
        {
          "output_type": "execute_result",
          "data": {
            "text/plain": [
              "Entire home/apt    5704\n",
              "Private room       1680\n",
              "Hotel room          286\n",
              "Shared room          60\n",
              "Name: room_type, dtype: int64"
            ]
          },
          "metadata": {
            "tags": []
          },
          "execution_count": 35
        }
      ]
    },
    {
      "cell_type": "code",
      "metadata": {
        "id": "EvwoO-XAHhIm",
        "colab_type": "code",
        "outputId": "5510da6a-5fc6-4b46-b917-35160b4c605b",
        "colab": {
          "base_uri": "https://localhost:8080/",
          "height": 105
        }
      },
      "source": [
        "# mostrar a porcentagem de cada tipo de imóvel disponível\n",
        "df_clean.room_type.value_counts()/df.shape[0]"
      ],
      "execution_count": 0,
      "outputs": [
        {
          "output_type": "execute_result",
          "data": {
            "text/plain": [
              "Entire home/apt    0.646053\n",
              "Private room       0.190282\n",
              "Hotel room         0.032393\n",
              "Shared room        0.006796\n",
              "Name: room_type, dtype: float64"
            ]
          },
          "metadata": {
            "tags": []
          },
          "execution_count": 36
        }
      ]
    },
    {
      "cell_type": "markdown",
      "metadata": {
        "id": "HxMzmijGpZHP",
        "colab_type": "text"
      },
      "source": [
        "___\n"
      ]
    },
    {
      "cell_type": "markdown",
      "metadata": {
        "id": "7x4aw1j5wNmn",
        "colab_type": "text"
      },
      "source": [
        "### **Q7. Qual o preço médio das diárias em Veneza?**"
      ]
    },
    {
      "cell_type": "markdown",
      "metadata": {
        "id": "-UgG6CMyMjez",
        "colab_type": "text"
      },
      "source": [
        "Após as devidas análises dos dados faltantes e exclusões dos dados chamados de *outliers*, calculamos o preço médio das diárias (variável `price`) em Veneza, chegando ao valor de 110,67 euros."
      ]
    },
    {
      "cell_type": "code",
      "metadata": {
        "id": "ff-8gUahLk-C",
        "colab_type": "code",
        "outputId": "cc365594-5fc5-4fdf-ef8b-b31fd8ca5c6d",
        "colab": {
          "base_uri": "https://localhost:8080/",
          "height": 34
        }
      },
      "source": [
        "# ver a média da coluna `price``\n",
        "df_clean.price.mean()"
      ],
      "execution_count": 0,
      "outputs": [
        {
          "output_type": "execute_result",
          "data": {
            "text/plain": [
              "110.67736093143597"
            ]
          },
          "metadata": {
            "tags": []
          },
          "execution_count": 18
        }
      ]
    },
    {
      "cell_type": "markdown",
      "metadata": {
        "id": "NyUKSwg8757a",
        "colab_type": "text"
      },
      "source": [
        "___"
      ]
    },
    {
      "cell_type": "markdown",
      "metadata": {
        "id": "MFa5NbnLJMcd",
        "colab_type": "text"
      },
      "source": [
        "### **Q8. Qual bairro de Veneza tem os imóveis mais caros para locação?**\n",
        "\n"
      ]
    },
    {
      "cell_type": "markdown",
      "metadata": {
        "id": "14VTzikaDBPF",
        "colab_type": "text"
      },
      "source": [
        "A partir do agrupamento das acomodações por bairros, fizemos um levantamento para saber o preço médio das diárias em cada um deles.\n",
        " \n",
        "Foi identificado que **o bairro de San Marco, localizado no centro histórico de Veneza, tem 828 unidades para locação e é o mais caro da cidade com uma diária média de quase 143 euros.** Dentre os 10 bairros mais caros abaixo apresentados temos ali presentes todos os 6 do centro histórico, ou seja, quem quiser desfrutar o melhor da ilha e dos seus inúmeros atrativos, evitandos os custos e o tempo de deslocamento, terá que desembolsar um pouco mais.\n",
        "\n",
        "Além disso, calculamos os preços médios das diárias para os imóveis do continente (*terraferma*) e das ilhas (*isole*) em geral, chegando aos seguintes valores:\n",
        "* *Isole*      = 122,35 euros\n",
        "* *Terraferma* =  64,20 euros\n",
        " \n"
      ]
    },
    {
      "cell_type": "markdown",
      "metadata": {
        "id": "sUMKzmx2uPG-",
        "colab_type": "text"
      },
      "source": [
        "<img alt=\"Veneza\" width=\"80%\" src=\"https://github.com/leandroguarato/data_science/raw/master/imagens/Veneza.png\">"
      ]
    },
    {
      "cell_type": "code",
      "metadata": {
        "id": "MD_xa143JZpi",
        "colab_type": "code",
        "outputId": "d48f04b7-f412-4267-c8d5-7e48f5b49da6",
        "colab": {
          "base_uri": "https://localhost:8080/",
          "height": 230
        }
      },
      "source": [
        "# ver preços por bairros, na média\n",
        "df_clean.groupby(['neighbourhood']).price.mean().sort_values(ascending=False)[:10]"
      ],
      "execution_count": 0,
      "outputs": [
        {
          "output_type": "execute_result",
          "data": {
            "text/plain": [
              "neighbourhood\n",
              "San Marco      142.701691\n",
              "Santa Croce    125.226860\n",
              "Dorsoduro      125.010582\n",
              "Ferrarese      125.000000\n",
              "San Polo       123.210708\n",
              "Castello       120.976503\n",
              "Torcello       120.000000\n",
              "Alberoni       119.000000\n",
              "Cannaregio     116.741094\n",
              "Burano         115.529412\n",
              "Name: price, dtype: float64"
            ]
          },
          "metadata": {
            "tags": []
          },
          "execution_count": 37
        }
      ]
    },
    {
      "cell_type": "markdown",
      "metadata": {
        "id": "HZkxNQNiR5GG",
        "colab_type": "text"
      },
      "source": [
        "Análise da variável `neighbourhood_group`, que verifica se os imóveis estão em alguma ilha ou no continente."
      ]
    },
    {
      "cell_type": "code",
      "metadata": {
        "id": "eo65aHnLCX0K",
        "colab_type": "code",
        "outputId": "59bce543-d754-4971-b6b2-5f48ceb31f2a",
        "colab": {
          "base_uri": "https://localhost:8080/",
          "height": 87
        }
      },
      "source": [
        "df_clean.groupby(['neighbourhood_group']).price.mean().sort_values(ascending=False)[:20]"
      ],
      "execution_count": 0,
      "outputs": [
        {
          "output_type": "execute_result",
          "data": {
            "text/plain": [
              "neighbourhood_group\n",
              "Isole         122.352379\n",
              "Terraferma     64.202964\n",
              "Name: price, dtype: float64"
            ]
          },
          "metadata": {
            "tags": []
          },
          "execution_count": 20
        }
      ]
    },
    {
      "cell_type": "markdown",
      "metadata": {
        "id": "-LFlYXDIQ3OP",
        "colab_type": "text"
      },
      "source": [
        "Aqui verificamos a quantidade de imóveis no bairro de *San Marco*, com o objetivo de constatar se há poucos registros, o que pode distorcer os resultados. \n",
        "Entretanto, com 828 registros, entendemos que os valores estão bem distribuídos e o resultado condiz com a realidade do local."
      ]
    },
    {
      "cell_type": "code",
      "metadata": {
        "id": "khTCy_kePUHs",
        "colab_type": "code",
        "outputId": "cf959899-3f8d-4d90-8726-01e983429cea",
        "colab": {
          "base_uri": "https://localhost:8080/",
          "height": 34
        }
      },
      "source": [
        "print(df_clean[df_clean.neighbourhood == \"San Marco\"].shape)"
      ],
      "execution_count": 0,
      "outputs": [
        {
          "output_type": "stream",
          "text": [
            "(828, 16)\n"
          ],
          "name": "stdout"
        }
      ]
    },
    {
      "cell_type": "markdown",
      "metadata": {
        "id": "VHh5xWGNpb40",
        "colab_type": "text"
      },
      "source": [
        "___\n"
      ]
    },
    {
      "cell_type": "markdown",
      "metadata": {
        "id": "vTneAMRUYvr1",
        "colab_type": "text"
      },
      "source": [
        "### **Q9. Qual é a média do mínimo de noites para aluguel (minimum_nights)?**"
      ]
    },
    {
      "cell_type": "markdown",
      "metadata": {
        "id": "i8xMr_B2Sqff",
        "colab_type": "text"
      },
      "source": [
        "Neste ponto passamos a analisar a variável `minimum_nights`, que significa a quantidade mínima de noites exigida pelos anfitriões para locação de seus imóveis. Obtivemos como resultado um número médio de aproximadamente 1,84 noites por acomodação ofertada."
      ]
    },
    {
      "cell_type": "code",
      "metadata": {
        "id": "_VzNhrEgY82N",
        "colab_type": "code",
        "outputId": "2e63a0e3-82b7-478b-e7e5-3142e5079e07",
        "colab": {
          "base_uri": "https://localhost:8080/",
          "height": 34
        }
      },
      "source": [
        "# ver a média da coluna `minimum_nights``\n",
        "df_clean['minimum_nights'].mean()"
      ],
      "execution_count": 0,
      "outputs": [
        {
          "output_type": "execute_result",
          "data": {
            "text/plain": [
              "1.8476067270375163"
            ]
          },
          "metadata": {
            "tags": []
          },
          "execution_count": 40
        }
      ]
    },
    {
      "cell_type": "markdown",
      "metadata": {
        "id": "c2obQ6clpfYL",
        "colab_type": "text"
      },
      "source": [
        "\n",
        "Por fim, plotaremos um  gráfico de dispersão com a localização dos imóveis pela cidade de Veneza, utilizando as variáveis `latitude` e `longitude`."
      ]
    },
    {
      "cell_type": "markdown",
      "metadata": {
        "id": "7xLKvcSc78Wp",
        "colab_type": "text"
      },
      "source": [
        "___"
      ]
    },
    {
      "cell_type": "markdown",
      "metadata": {
        "id": "at9cqAyiXkad",
        "colab_type": "text"
      },
      "source": [
        "### **Q10. Como os imóveis para locação estão distribuídos pela cidade de Veneza?**"
      ]
    },
    {
      "cell_type": "markdown",
      "metadata": {
        "id": "4f-hpVl5Wg4F",
        "colab_type": "text"
      },
      "source": [
        "Podemos notar claramente uma grande dispersão dos imóveis pelos bairros da cidade de Veneza, tanto nas ilhas quanto no continente. Apesar disso, há também uma certa sobreposição dos pontos em alguns locais, principalmente no centro histórico, uma vez que é uma característica da cidade os imóveis verticais, com dois, três e até quatro andares tendo, por vezes, várias acomodações disponíveis para locação no mesmo imóvel."
      ]
    },
    {
      "cell_type": "code",
      "metadata": {
        "id": "UxVJqJ_3W59I",
        "colab_type": "code",
        "outputId": "ee7f20e9-0479-4316-87a8-e3027c73ca24",
        "colab": {
          "base_uri": "https://localhost:8080/",
          "height": 577
        }
      },
      "source": [
        "# plotar os imóveis pela latitude-longitude\n",
        "df_clean.plot(kind=\"scatter\", x='longitude', y='latitude', alpha=0.4, c=df_clean['price'], s=12,\n",
        "              cmap=plt.get_cmap('jet'), figsize=(20,10));"
      ],
      "execution_count": 0,
      "outputs": [
        {
          "output_type": "display_data",
          "data": {
            "image/png": "[encoded data removed]",
            "text/plain": [
              "<Figure size 1440x720 with 2 Axes>"
            ]
          },
          "metadata": {
            "tags": [],
            "needs_background": "light"
          }
        }
      ]
    },
    {
      "cell_type": "markdown",
      "metadata": {
        "id": "GkvAg623RjoR",
        "colab_type": "text"
      },
      "source": [
        "## Conclusões\n"
      ]
    },
    {
      "cell_type": "markdown",
      "metadata": {
        "id": "rbZ3Hsy9Ypw8",
        "colab_type": "text"
      },
      "source": [
        "Com base nos dados fornecidos pelo Airbnb fizemos uma análise superficial de algumas variáveis, retirando alguns insights, como:\n",
        "\n",
        "a) quais são os tipos de imóveis mais oferecidos para locação por meio do Airbnb em Veneza;\\\n",
        "b) preço médio das diárias na cidade de Veneza; \\\n",
        "c) preço médio das diárias nos 10 bairros mais caros da cidade;\\\n",
        "d) preço médio das diárias em acomodações situadas no continente (*terraferma*) e nas ilhas (*isole*);\\\n",
        "e) distribuição das acomodações pela cidade.\n",
        "\n",
        "Uma vez que os dados utilizados são uma pequena fração do conjunto de dados completo disponibilizado pela Airbnb, entendemos que em uma próxima abordagem podemos estender os estudos pelas demais variáveis (106 ao todo) com vistas a obter insights mais abrangentes e profundos, ao mesmo tempo.\n",
        "\n"
      ]
    }
  ]
}