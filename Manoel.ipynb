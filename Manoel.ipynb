{
  "nbformat": 4,
  "nbformat_minor": 0,
  "metadata": {
    "colab": {
      "name": "Untitled16.ipynb",
      "provenance": [],
      "authorship_tag": "ABX9TyOlr3IAxBw1FgYtQmK42Ke6",
      "include_colab_link": true
    },
    "kernelspec": {
      "name": "python3",
      "display_name": "Python 3"
    }
  },
  "cells": [
    {
      "cell_type": "markdown",
      "metadata": {
        "id": "view-in-github",
        "colab_type": "text"
      },
      "source": [
        "<a href=\"https://colab.research.google.com/github/leandroguarato/data_science/blob/master/Manoel.ipynb\" target=\"_parent\"><img src=\"https://colab.research.google.com/assets/colab-badge.svg\" alt=\"Open In Colab\"/></a>"
      ]
    },
    {
      "cell_type": "code",
      "metadata": {
        "id": "KFr6blngJ6QX",
        "colab_type": "code",
        "colab": {}
      },
      "source": [
        "import pandas as pd"
      ],
      "execution_count": 2,
      "outputs": []
    },
    {
      "cell_type": "code",
      "metadata": {
        "id": "2MlkWe7aKDS1",
        "colab_type": "code",
        "colab": {}
      },
      "source": [
        "df  = pd.read_csv('https://raw.githubusercontent.com/manoelpajr/dataframes/master/DOLFUT_Diario1.csv', sep=';')"
      ],
      "execution_count": 34,
      "outputs": []
    },
    {
      "cell_type": "code",
      "metadata": {
        "id": "89qcjsYeKHGV",
        "colab_type": "code",
        "colab": {
          "base_uri": "https://localhost:8080/",
          "height": 158
        },
        "outputId": "c2fb4736-fdd9-4b73-96e3-d91af959c0aa"
      },
      "source": [
        "df.dtypes"
      ],
      "execution_count": 32,
      "outputs": [
        {
          "output_type": "execute_result",
          "data": {
            "text/plain": [
              "Data           object\n",
              "Abertura       object\n",
              "Maximo         object\n",
              "Minimo         object\n",
              "Fechamento     object\n",
              "Volume         object\n",
              "Quantidade    float64\n",
              "dtype: object"
            ]
          },
          "metadata": {
            "tags": []
          },
          "execution_count": 32
        }
      ]
    },
    {
      "cell_type": "code",
      "metadata": {
        "id": "PT3BfmFaKURR",
        "colab_type": "code",
        "colab": {
          "base_uri": "https://localhost:8080/",
          "height": 230
        },
        "outputId": "be8042d2-9390-4cbb-f007-71e5fe4acf79"
      },
      "source": [
        "df.Abertura.str.replace('.', '')"
      ],
      "execution_count": 35,
      "outputs": [
        {
          "output_type": "execute_result",
          "data": {
            "text/plain": [
              "0      5430,00\n",
              "1      5457,98\n",
              "2      5379,51\n",
              "3      5380,01\n",
              "4      5178,09\n",
              "        ...   \n",
              "488    4230,47\n",
              "489    4181,24\n",
              "490    4184,99\n",
              "491    4168,40\n",
              "492    4178,57\n",
              "Name: Abertura, Length: 493, dtype: object"
            ]
          },
          "metadata": {
            "tags": []
          },
          "execution_count": 35
        }
      ]
    },
    {
      "cell_type": "code",
      "metadata": {
        "id": "R5ns8ELJNbQ1",
        "colab_type": "code",
        "colab": {}
      },
      "source": [
        "df.Abertura = df.Abertura.str.replace('.', '')"
      ],
      "execution_count": 36,
      "outputs": []
    },
    {
      "cell_type": "code",
      "metadata": {
        "id": "IK4dY2HaNiIc",
        "colab_type": "code",
        "colab": {
          "base_uri": "https://localhost:8080/",
          "height": 230
        },
        "outputId": "6e1c3c21-6e0a-4c8c-a6cc-d0d0a8afe7a8"
      },
      "source": [
        "df.Abertura.str.replace(',','.')"
      ],
      "execution_count": 37,
      "outputs": [
        {
          "output_type": "execute_result",
          "data": {
            "text/plain": [
              "0      5430.00\n",
              "1      5457.98\n",
              "2      5379.51\n",
              "3      5380.01\n",
              "4      5178.09\n",
              "        ...   \n",
              "488    4230.47\n",
              "489    4181.24\n",
              "490    4184.99\n",
              "491    4168.40\n",
              "492    4178.57\n",
              "Name: Abertura, Length: 493, dtype: object"
            ]
          },
          "metadata": {
            "tags": []
          },
          "execution_count": 37
        }
      ]
    },
    {
      "cell_type": "code",
      "metadata": {
        "id": "ibUmmSjJNs3q",
        "colab_type": "code",
        "colab": {}
      },
      "source": [
        "df.Abertura = df.Abertura.str.replace(',','.')"
      ],
      "execution_count": 38,
      "outputs": []
    },
    {
      "cell_type": "code",
      "metadata": {
        "id": "4etq0-sGMfTy",
        "colab_type": "code",
        "colab": {
          "base_uri": "https://localhost:8080/",
          "height": 197
        },
        "outputId": "6b386dbb-322b-4be4-bafd-f4d63bb4226a"
      },
      "source": [
        "df.head()"
      ],
      "execution_count": 39,
      "outputs": [
        {
          "output_type": "execute_result",
          "data": {
            "text/html": [
              "<div>\n",
              "<style scoped>\n",
              "    .dataframe tbody tr th:only-of-type {\n",
              "        vertical-align: middle;\n",
              "    }\n",
              "\n",
              "    .dataframe tbody tr th {\n",
              "        vertical-align: top;\n",
              "    }\n",
              "\n",
              "    .dataframe thead th {\n",
              "        text-align: right;\n",
              "    }\n",
              "</style>\n",
              "<table border=\"1\" class=\"dataframe\">\n",
              "  <thead>\n",
              "    <tr style=\"text-align: right;\">\n",
              "      <th></th>\n",
              "      <th>Data</th>\n",
              "      <th>Abertura</th>\n",
              "      <th>Maximo</th>\n",
              "      <th>Minimo</th>\n",
              "      <th>Fechamento</th>\n",
              "      <th>Volume</th>\n",
              "      <th>Quantidade</th>\n",
              "    </tr>\n",
              "  </thead>\n",
              "  <tbody>\n",
              "    <tr>\n",
              "      <th>0</th>\n",
              "      <td>30/06/2020</td>\n",
              "      <td>5430.00</td>\n",
              "      <td>5.513,50</td>\n",
              "      <td>5.410,50</td>\n",
              "      <td>5.463,00</td>\n",
              "      <td>89.629.807.125,00</td>\n",
              "      <td>327.865</td>\n",
              "    </tr>\n",
              "    <tr>\n",
              "      <th>1</th>\n",
              "      <td>29/06/2020</td>\n",
              "      <td>5457.98</td>\n",
              "      <td>5.470,98</td>\n",
              "      <td>5.388,01</td>\n",
              "      <td>5.407,00</td>\n",
              "      <td>73.502.699.375,00</td>\n",
              "      <td>270.445</td>\n",
              "    </tr>\n",
              "    <tr>\n",
              "      <th>2</th>\n",
              "      <td>26/06/2020</td>\n",
              "      <td>5379.51</td>\n",
              "      <td>5.491,47</td>\n",
              "      <td>5.366,52</td>\n",
              "      <td>5.482,97</td>\n",
              "      <td>91.547.204.625,00</td>\n",
              "      <td>335.750</td>\n",
              "    </tr>\n",
              "    <tr>\n",
              "      <th>3</th>\n",
              "      <td>25/06/2020</td>\n",
              "      <td>5380.01</td>\n",
              "      <td>5.386,01</td>\n",
              "      <td>5.266,05</td>\n",
              "      <td>5.354,52</td>\n",
              "      <td>92.693.603.500,00</td>\n",
              "      <td>347.475</td>\n",
              "    </tr>\n",
              "    <tr>\n",
              "      <th>4</th>\n",
              "      <td>24/06/2020</td>\n",
              "      <td>5178.09</td>\n",
              "      <td>5.353,02</td>\n",
              "      <td>5.164,09</td>\n",
              "      <td>5.347,52</td>\n",
              "      <td>87.852.063.125,00</td>\n",
              "      <td>333.335</td>\n",
              "    </tr>\n",
              "  </tbody>\n",
              "</table>\n",
              "</div>"
            ],
            "text/plain": [
              "         Data Abertura    Maximo  ... Fechamento             Volume Quantidade\n",
              "0  30/06/2020  5430.00  5.513,50  ...   5.463,00  89.629.807.125,00    327.865\n",
              "1  29/06/2020  5457.98  5.470,98  ...   5.407,00  73.502.699.375,00    270.445\n",
              "2  26/06/2020  5379.51  5.491,47  ...   5.482,97  91.547.204.625,00    335.750\n",
              "3  25/06/2020  5380.01  5.386,01  ...   5.354,52  92.693.603.500,00    347.475\n",
              "4  24/06/2020  5178.09  5.353,02  ...   5.347,52  87.852.063.125,00    333.335\n",
              "\n",
              "[5 rows x 7 columns]"
            ]
          },
          "metadata": {
            "tags": []
          },
          "execution_count": 39
        }
      ]
    },
    {
      "cell_type": "code",
      "metadata": {
        "id": "Rn9SYqlJN-_l",
        "colab_type": "code",
        "colab": {
          "base_uri": "https://localhost:8080/",
          "height": 230
        },
        "outputId": "140c7528-12b8-40a7-86d2-80bbf73fa778"
      },
      "source": [
        "df.Abertura.astype(float)"
      ],
      "execution_count": 40,
      "outputs": [
        {
          "output_type": "execute_result",
          "data": {
            "text/plain": [
              "0      5430.00\n",
              "1      5457.98\n",
              "2      5379.51\n",
              "3      5380.01\n",
              "4      5178.09\n",
              "        ...   \n",
              "488    4230.47\n",
              "489    4181.24\n",
              "490    4184.99\n",
              "491    4168.40\n",
              "492    4178.57\n",
              "Name: Abertura, Length: 493, dtype: float64"
            ]
          },
          "metadata": {
            "tags": []
          },
          "execution_count": 40
        }
      ]
    },
    {
      "cell_type": "code",
      "metadata": {
        "id": "vmFIW8t7Pg4X",
        "colab_type": "code",
        "colab": {}
      },
      "source": [
        "df.Abertura = df.Abertura.astype(float)"
      ],
      "execution_count": 42,
      "outputs": []
    },
    {
      "cell_type": "code",
      "metadata": {
        "id": "dxHtW07VPaPs",
        "colab_type": "code",
        "colab": {
          "base_uri": "https://localhost:8080/",
          "height": 158
        },
        "outputId": "4409ab38-54db-404d-acdd-dd6a303e3f16"
      },
      "source": [
        "df.dtypes"
      ],
      "execution_count": 43,
      "outputs": [
        {
          "output_type": "execute_result",
          "data": {
            "text/plain": [
              "Data           object\n",
              "Abertura      float64\n",
              "Maximo         object\n",
              "Minimo         object\n",
              "Fechamento     object\n",
              "Volume         object\n",
              "Quantidade    float64\n",
              "dtype: object"
            ]
          },
          "metadata": {
            "tags": []
          },
          "execution_count": 43
        }
      ]
    }
  ]
}